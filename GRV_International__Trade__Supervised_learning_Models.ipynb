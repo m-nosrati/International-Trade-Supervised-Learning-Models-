{
  "nbformat": 4,
  "nbformat_minor": 0,
  "metadata": {
    "kernelspec": {
      "display_name": "Python 3",
      "language": "python",
      "name": "python3"
    },
    "language_info": {
      "codemirror_mode": {
        "name": "ipython",
        "version": 3
      },
      "file_extension": ".py",
      "mimetype": "text/x-python",
      "name": "python",
      "nbconvert_exporter": "python",
      "pygments_lexer": "ipython3",
      "version": "3.8.5"
    },
    "colab": {
      "name": "GRV_International_ Trade _Supervised_learning_Models.ipynb",
      "provenance": [],
      "collapsed_sections": [],
      "machine_shape": "hm"
    },
    "accelerator": "GPU"
  },
  "cells": [
    {
      "cell_type": "markdown",
      "metadata": {
        "id": "kZBhD5CGKNlg"
      },
      "source": [
        "## I. Background\n",
        "International trade has many advantages that countries and stakeholders can benefit from. Such as Increased revenues, Decreased competition, Longer product lifespan, Easier cash-flow management, Better risk management, Benefiting from currency exchange, Access to export financing, and Disposal of surplus goods. However, on the other hand, there are some problems and disadvantages of international trade. The most common problems that countries and stakeholders face in international trades are as follow: shipping customs and duties, language barriers, cultural differences, servicing customers, returning products, and intellectual property theft."
      ]
    },
    {
      "cell_type": "markdown",
      "metadata": {
        "id": "qwJ1Efz9Ug9z"
      },
      "source": [
        "## 1. Libraries"
      ]
    },
    {
      "cell_type": "code",
      "metadata": {
        "id": "dg_4CoiOdEjd"
      },
      "source": [
        "import numpy as np \n",
        "import pandas as pd\n",
        "from sklearn.impute import SimpleImputer\n",
        "from sklearn.model_selection import train_test_split\n",
        "from sklearn.compose import ColumnTransformer\n",
        "from sklearn.pipeline import Pipeline\n",
        "from sklearn.preprocessing import OneHotEncoder\n",
        "from sklearn.ensemble import RandomForestRegressor\n",
        "from sklearn.metrics import mean_absolute_error\n",
        "from xgboost import XGBRegressor\n",
        "from sklearn.linear_model import LassoCV\n",
        "from sklearn import metrics \n",
        "from sklearn.ensemble import GradientBoostingRegressor\n",
        "from sklearn.pipeline import make_pipeline\n",
        "from sklearn.model_selection import KFold\n",
        "from sklearn.model_selection import GridSearchCV, cross_val_score\n",
        "from scipy.stats import skew  # for some statistics\n",
        "from scipy.special import boxcox1p\n",
        "from scipy.stats import boxcox_normmax\n",
        "\n",
        "from sklearn.linear_model import ElasticNetCV, LassoCV, RidgeCV\n",
        "from sklearn.ensemble import GradientBoostingRegressor\n",
        "from sklearn.svm import SVR\n",
        "from sklearn.pipeline import make_pipeline\n",
        "from sklearn.preprocessing import RobustScaler\n",
        "from sklearn.model_selection import KFold, cross_val_score\n",
        "from sklearn.metrics import mean_squared_error, mean_absolute_error\n",
        "\n",
        "from mlxtend.regressor import StackingCVRegressor\n",
        "\n",
        "from sklearn import preprocessing\n",
        "import warnings\n",
        "warnings.filterwarnings(\"ignore\")\n",
        "pd.set_option('display.max_columns', None)\n",
        "import matplotlib.pyplot as plt\n",
        "import seaborn as sns\n",
        "sns.set()\n",
        "from scipy.stats import skew\n",
        "import os\n",
        "import missingno as msno\n",
        "import sklearn\n",
        "from sklearn.model_selection import cross_val_predict\n",
        "from sklearn.model_selection import cross_val_score\n",
        "from sklearn.model_selection import cross_validate\n",
        "from sklearn.model_selection import train_test_split\n",
        "from sklearn.linear_model import LinearRegression\n",
        "from sklearn.ensemble import RandomForestRegressor\n",
        "from sklearn.tree import DecisionTreeRegressor\n",
        "from sklearn.model_selection import RandomizedSearchCV\n",
        "from sklearn.model_selection import GridSearchCV\n",
        "from sklearn.linear_model import LinearRegression\n",
        "from sklearn.preprocessing import RobustScaler"
      ],
      "execution_count": null,
      "outputs": []
    },
    {
      "cell_type": "markdown",
      "metadata": {
        "id": "IDpbgUMxKL6F"
      },
      "source": [
        "## 2 - Reading Data\n",
        "\n",
        "In this section:\n",
        "\n",
        "2.1 Reading Data\n",
        "\n",
        "2.2 Understanding the Data\n",
        "\n",
        "2.3 Checking for missing values\n",
        "\n",
        "\n",
        "The data was obtained from:https://www.kaggle.com/alexismayer/tradebetweencountries?select=samp_gravity.csv. This dataset was originally generated by Keith Head, Thierry Mayer and John Ries1 for the period 1984-2006."
      ]
    },
    {
      "cell_type": "code",
      "metadata": {
        "id": "kgLdSFIQx9wq",
        "colab": {
          "base_uri": "https://localhost:8080/"
        },
        "outputId": "d3cbcd42-1c52-41b0-d001-b2615213919c"
      },
      "source": [
        "from google.colab import drive\n",
        "drive.mount('/content/drive', force_remount=True) "
      ],
      "execution_count": null,
      "outputs": [
        {
          "output_type": "stream",
          "text": [
            "Mounted at /content/drive\n"
          ],
          "name": "stdout"
        }
      ]
    },
    {
      "cell_type": "code",
      "metadata": {
        "id": "fjYDK8G1flIX"
      },
      "source": [
        "df = pd.read_csv('/content/drive/MyDrive/Thinkful/Data/samp_gravity.csv')"
      ],
      "execution_count": null,
      "outputs": []
    },
    {
      "cell_type": "markdown",
      "metadata": {
        "id": "XQrd5iPJVxce"
      },
      "source": [
        "## 2.2 Understanding the Data"
      ]
    },
    {
      "cell_type": "code",
      "metadata": {
        "colab": {
          "base_uri": "https://localhost:8080/",
          "height": 216
        },
        "id": "gzrpaqs4xWhK",
        "outputId": "39d7d15c-2d5c-4529-ab4b-1ae06eba7974"
      },
      "source": [
        "df.head()"
      ],
      "execution_count": null,
      "outputs": [
        {
          "output_type": "execute_result",
          "data": {
            "text/html": [
              "<div>\n",
              "<style scoped>\n",
              "    .dataframe tbody tr th:only-of-type {\n",
              "        vertical-align: middle;\n",
              "    }\n",
              "\n",
              "    .dataframe tbody tr th {\n",
              "        vertical-align: top;\n",
              "    }\n",
              "\n",
              "    .dataframe thead th {\n",
              "        text-align: right;\n",
              "    }\n",
              "</style>\n",
              "<table border=\"1\" class=\"dataframe\">\n",
              "  <thead>\n",
              "    <tr style=\"text-align: right;\">\n",
              "      <th></th>\n",
              "      <th>year</th>\n",
              "      <th>iso_o</th>\n",
              "      <th>iso_d</th>\n",
              "      <th>contig</th>\n",
              "      <th>comlang_off</th>\n",
              "      <th>distw</th>\n",
              "      <th>pop_o</th>\n",
              "      <th>gdp_o</th>\n",
              "      <th>gdpcap_o</th>\n",
              "      <th>iso2_o</th>\n",
              "      <th>pop_d</th>\n",
              "      <th>gdp_d</th>\n",
              "      <th>gdpcap_d</th>\n",
              "      <th>iso2_d</th>\n",
              "      <th>heg_d</th>\n",
              "      <th>conflict</th>\n",
              "      <th>indepdate</th>\n",
              "      <th>heg_o</th>\n",
              "      <th>col_to</th>\n",
              "      <th>col_fr</th>\n",
              "      <th>col_hist</th>\n",
              "      <th>col_cur</th>\n",
              "      <th>sever</th>\n",
              "      <th>sib_conflict</th>\n",
              "      <th>gatt_o</th>\n",
              "      <th>gatt_d</th>\n",
              "      <th>rta</th>\n",
              "      <th>comleg</th>\n",
              "      <th>comcur</th>\n",
              "      <th>acp_to_eu</th>\n",
              "      <th>gsp</th>\n",
              "      <th>eu_to_acp</th>\n",
              "      <th>gsp_rec</th>\n",
              "      <th>flow</th>\n",
              "      <th>validmirror</th>\n",
              "      <th>family</th>\n",
              "    </tr>\n",
              "  </thead>\n",
              "  <tbody>\n",
              "    <tr>\n",
              "      <th>0</th>\n",
              "      <td>1999</td>\n",
              "      <td>ABW</td>\n",
              "      <td>AGO</td>\n",
              "      <td>0</td>\n",
              "      <td>0</td>\n",
              "      <td>9587.315563</td>\n",
              "      <td>NaN</td>\n",
              "      <td>1722.905029</td>\n",
              "      <td>NaN</td>\n",
              "      <td>AW</td>\n",
              "      <td>13.500820</td>\n",
              "      <td>6154.479980</td>\n",
              "      <td>455.859711</td>\n",
              "      <td>AO</td>\n",
              "      <td>0</td>\n",
              "      <td>NaN</td>\n",
              "      <td>NaN</td>\n",
              "      <td>0</td>\n",
              "      <td>0</td>\n",
              "      <td>0</td>\n",
              "      <td>0</td>\n",
              "      <td>0</td>\n",
              "      <td>NaN</td>\n",
              "      <td>NaN</td>\n",
              "      <td>0</td>\n",
              "      <td>1</td>\n",
              "      <td>0</td>\n",
              "      <td>1</td>\n",
              "      <td>0</td>\n",
              "      <td>0</td>\n",
              "      <td>0</td>\n",
              "      <td>0</td>\n",
              "      <td>0</td>\n",
              "      <td>0.0</td>\n",
              "      <td>0</td>\n",
              "      <td>NaN</td>\n",
              "    </tr>\n",
              "    <tr>\n",
              "      <th>1</th>\n",
              "      <td>2000</td>\n",
              "      <td>ABW</td>\n",
              "      <td>AGO</td>\n",
              "      <td>0</td>\n",
              "      <td>0</td>\n",
              "      <td>9587.315563</td>\n",
              "      <td>NaN</td>\n",
              "      <td>1858.659180</td>\n",
              "      <td>NaN</td>\n",
              "      <td>AW</td>\n",
              "      <td>13.840636</td>\n",
              "      <td>9129.179688</td>\n",
              "      <td>659.592468</td>\n",
              "      <td>AO</td>\n",
              "      <td>0</td>\n",
              "      <td>NaN</td>\n",
              "      <td>NaN</td>\n",
              "      <td>0</td>\n",
              "      <td>0</td>\n",
              "      <td>0</td>\n",
              "      <td>0</td>\n",
              "      <td>0</td>\n",
              "      <td>NaN</td>\n",
              "      <td>NaN</td>\n",
              "      <td>0</td>\n",
              "      <td>1</td>\n",
              "      <td>0</td>\n",
              "      <td>1</td>\n",
              "      <td>0</td>\n",
              "      <td>0</td>\n",
              "      <td>0</td>\n",
              "      <td>0</td>\n",
              "      <td>0</td>\n",
              "      <td>0.0</td>\n",
              "      <td>1</td>\n",
              "      <td>NaN</td>\n",
              "    </tr>\n",
              "    <tr>\n",
              "      <th>2</th>\n",
              "      <td>2001</td>\n",
              "      <td>ABW</td>\n",
              "      <td>AGO</td>\n",
              "      <td>0</td>\n",
              "      <td>0</td>\n",
              "      <td>9587.315563</td>\n",
              "      <td>NaN</td>\n",
              "      <td>1898.882690</td>\n",
              "      <td>NaN</td>\n",
              "      <td>AW</td>\n",
              "      <td>14.214834</td>\n",
              "      <td>8936.023438</td>\n",
              "      <td>628.640686</td>\n",
              "      <td>AO</td>\n",
              "      <td>0</td>\n",
              "      <td>NaN</td>\n",
              "      <td>NaN</td>\n",
              "      <td>0</td>\n",
              "      <td>0</td>\n",
              "      <td>0</td>\n",
              "      <td>0</td>\n",
              "      <td>0</td>\n",
              "      <td>NaN</td>\n",
              "      <td>NaN</td>\n",
              "      <td>0</td>\n",
              "      <td>1</td>\n",
              "      <td>0</td>\n",
              "      <td>1</td>\n",
              "      <td>0</td>\n",
              "      <td>0</td>\n",
              "      <td>0</td>\n",
              "      <td>0</td>\n",
              "      <td>0</td>\n",
              "      <td>0.0</td>\n",
              "      <td>1</td>\n",
              "      <td>NaN</td>\n",
              "    </tr>\n",
              "    <tr>\n",
              "      <th>3</th>\n",
              "      <td>2002</td>\n",
              "      <td>ABW</td>\n",
              "      <td>AGO</td>\n",
              "      <td>0</td>\n",
              "      <td>0</td>\n",
              "      <td>9587.315563</td>\n",
              "      <td>NaN</td>\n",
              "      <td>1911.173218</td>\n",
              "      <td>NaN</td>\n",
              "      <td>AW</td>\n",
              "      <td>14.618782</td>\n",
              "      <td>11431.738281</td>\n",
              "      <td>781.989807</td>\n",
              "      <td>AO</td>\n",
              "      <td>0</td>\n",
              "      <td>NaN</td>\n",
              "      <td>NaN</td>\n",
              "      <td>0</td>\n",
              "      <td>0</td>\n",
              "      <td>0</td>\n",
              "      <td>0</td>\n",
              "      <td>0</td>\n",
              "      <td>NaN</td>\n",
              "      <td>NaN</td>\n",
              "      <td>0</td>\n",
              "      <td>1</td>\n",
              "      <td>0</td>\n",
              "      <td>1</td>\n",
              "      <td>0</td>\n",
              "      <td>0</td>\n",
              "      <td>0</td>\n",
              "      <td>0</td>\n",
              "      <td>0</td>\n",
              "      <td>0.0</td>\n",
              "      <td>1</td>\n",
              "      <td>NaN</td>\n",
              "    </tr>\n",
              "    <tr>\n",
              "      <th>4</th>\n",
              "      <td>2003</td>\n",
              "      <td>ABW</td>\n",
              "      <td>AGO</td>\n",
              "      <td>0</td>\n",
              "      <td>0</td>\n",
              "      <td>9587.315563</td>\n",
              "      <td>0.099</td>\n",
              "      <td>NaN</td>\n",
              "      <td>NaN</td>\n",
              "      <td>AW</td>\n",
              "      <td>15.046907</td>\n",
              "      <td>13956.267578</td>\n",
              "      <td>927.517334</td>\n",
              "      <td>AO</td>\n",
              "      <td>0</td>\n",
              "      <td>NaN</td>\n",
              "      <td>NaN</td>\n",
              "      <td>0</td>\n",
              "      <td>0</td>\n",
              "      <td>0</td>\n",
              "      <td>0</td>\n",
              "      <td>0</td>\n",
              "      <td>NaN</td>\n",
              "      <td>NaN</td>\n",
              "      <td>0</td>\n",
              "      <td>1</td>\n",
              "      <td>0</td>\n",
              "      <td>1</td>\n",
              "      <td>0</td>\n",
              "      <td>0</td>\n",
              "      <td>0</td>\n",
              "      <td>0</td>\n",
              "      <td>0</td>\n",
              "      <td>0.0</td>\n",
              "      <td>1</td>\n",
              "      <td>NaN</td>\n",
              "    </tr>\n",
              "  </tbody>\n",
              "</table>\n",
              "</div>"
            ],
            "text/plain": [
              "   year iso_o iso_d  contig  comlang_off        distw  pop_o        gdp_o  \\\n",
              "0  1999   ABW   AGO       0            0  9587.315563    NaN  1722.905029   \n",
              "1  2000   ABW   AGO       0            0  9587.315563    NaN  1858.659180   \n",
              "2  2001   ABW   AGO       0            0  9587.315563    NaN  1898.882690   \n",
              "3  2002   ABW   AGO       0            0  9587.315563    NaN  1911.173218   \n",
              "4  2003   ABW   AGO       0            0  9587.315563  0.099          NaN   \n",
              "\n",
              "   gdpcap_o iso2_o      pop_d         gdp_d    gdpcap_d iso2_d  heg_d  \\\n",
              "0       NaN     AW  13.500820   6154.479980  455.859711     AO      0   \n",
              "1       NaN     AW  13.840636   9129.179688  659.592468     AO      0   \n",
              "2       NaN     AW  14.214834   8936.023438  628.640686     AO      0   \n",
              "3       NaN     AW  14.618782  11431.738281  781.989807     AO      0   \n",
              "4       NaN     AW  15.046907  13956.267578  927.517334     AO      0   \n",
              "\n",
              "   conflict  indepdate  heg_o  col_to  col_fr  col_hist  col_cur  sever  \\\n",
              "0       NaN        NaN      0       0       0         0        0    NaN   \n",
              "1       NaN        NaN      0       0       0         0        0    NaN   \n",
              "2       NaN        NaN      0       0       0         0        0    NaN   \n",
              "3       NaN        NaN      0       0       0         0        0    NaN   \n",
              "4       NaN        NaN      0       0       0         0        0    NaN   \n",
              "\n",
              "   sib_conflict  gatt_o  gatt_d  rta  comleg  comcur  acp_to_eu  gsp  \\\n",
              "0           NaN       0       1    0       1       0          0    0   \n",
              "1           NaN       0       1    0       1       0          0    0   \n",
              "2           NaN       0       1    0       1       0          0    0   \n",
              "3           NaN       0       1    0       1       0          0    0   \n",
              "4           NaN       0       1    0       1       0          0    0   \n",
              "\n",
              "   eu_to_acp  gsp_rec  flow  validmirror family  \n",
              "0          0        0   0.0            0    NaN  \n",
              "1          0        0   0.0            1    NaN  \n",
              "2          0        0   0.0            1    NaN  \n",
              "3          0        0   0.0            1    NaN  \n",
              "4          0        0   0.0            1    NaN  "
            ]
          },
          "metadata": {
            "tags": []
          },
          "execution_count": 4
        }
      ]
    },
    {
      "cell_type": "code",
      "metadata": {
        "colab": {
          "base_uri": "https://localhost:8080/"
        },
        "id": "RLmI1ACxuG74",
        "outputId": "b9d9cf58-b59b-4cb9-8cda-3c8e53cca67b"
      },
      "source": [
        "df.value_counts()"
      ],
      "execution_count": null,
      "outputs": [
        {
          "output_type": "execute_result",
          "data": {
            "text/plain": [
              "year  iso_o  iso_d  contig  comlang_off  distw         pop_o       gdp_o         gdpcap_o      iso2_o  pop_d       gdp_d          gdpcap_d     iso2_d  heg_d  conflict  indepdate  heg_o  col_to  col_fr  col_hist  col_cur  sever   sib_conflict  gatt_o  gatt_d  rta  comleg  comcur  acp_to_eu  gsp  eu_to_acp  gsp_rec  flow        validmirror  family\n",
              "2006  USA    PHL    0       1            13153.975615  298.988098  1.320182e+07  44155.000000  US      84.589760   116931.343750  1382.334473  PH      0      0.0       1946.0     1      1       0       1         0        1820.0  0.0           1       1       0    0       0       0          0    0          1        8403.52000  1            USA       1\n",
              "1974  AUS    PNG    0       1            3087.280059   13.723000   1.002871e+05  7307.955566   AU      2.798718    1467.346069    524.292236   PG      0      0.0       1975.0     1      1       0       1         1        1901.0  0.0           1       0       0    1       0       0          0    0          0        264.15400   1            AUS       1\n",
              "1972  PNG    AUS    0       1            3087.280103   2.672093    8.588021e+02  321.396790    PG      13.177000   58196.015625   4416.484375  AU      1      0.0       1975.0     0      0       1       1         1        1901.0  0.0           0       1       0    1       0       0          0    0          0        63.89020    1            AUS       1\n",
              "      SDN    EGY    1       1            1736.120094   15.564969   2.470286e+03  158.708054    SD      36.842476   8763.960938    237.876541   EG      1      1.0       1885.0     0      0       1       1         0        1922.0  0.0           0       1       0    0       0       0          0    0          0        22.25630    1            EGY       1\n",
              "      USA    PHL    0       1            13153.975615  209.895996  1.225400e+06  5838.129395   US      38.669910   8017.268066    207.325745   PH      0      0.0       1946.0     1      1       0       1         0        1820.0  0.0           1       0       0    0       0       0          0    0          0        402.60000   1            USA       1\n",
              "                                                                                                                                                                                                                                                                                                                                                              ..\n",
              "1990  SDN    EGY    1       1            1736.120094   26.066122   1.316664e+04  505.124542    SD      55.673447   43130.417969   774.703552   EG      1      1.0       1885.0     0      0       1       1         0        1922.0  0.0           0       1       0    0       0       0          0    0          0        34.28700    1            EGY       1\n",
              "      USA    PHL    0       1            13153.975615  249.623001  5.757200e+06  23063.580078  US      61.104328   44311.593750   725.179321   PH      0      0.0       1946.0     1      1       0       1         0        1820.0  0.0           1       1       0    0       0       0          0    0          1        2718.65000  1            USA       1\n",
              "1991  AUS    PNG    0       1            3087.280059   17.284000   3.248146e+05  18792.791016  AU      4.220171    3788.483643    897.708557   PG      0      0.0       1975.0     1      1       0       1         0        1901.0  0.0           1       0       0    1       0       0          0    0          1        753.02100   1            AUS       1\n",
              "      BGD    PAK    0       0            2106.587306   106.454002  3.095745e+04  290.805847    BD      110.750023  45451.960938   410.401367   PK      1      1.0       1971.0     0      0       1       1         0        1947.0  0.0           1       1       0    1       0       0          0    0          0        43.03486    1            PAK       1\n",
              "1949  DOM    HTI    1       0            254.344087    2.080000    3.231000e+02  155.336548    DO      3.062000    335.399994     109.536247   HT      1      1.0       1844.0     0      0       1       1         0        1804.0  1.0           0       0       0    1       0       0          0    0          0        0.00000     1            HTI       1\n",
              "Length: 500, dtype: int64"
            ]
          },
          "metadata": {
            "tags": []
          },
          "execution_count": 5
        }
      ]
    },
    {
      "cell_type": "code",
      "metadata": {
        "colab": {
          "base_uri": "https://localhost:8080/",
          "height": 306
        },
        "id": "8rMyGNxkufXR",
        "outputId": "35d0fd34-c5ab-4336-c4e8-0d8e2c156ba6"
      },
      "source": [
        "df.describe()"
      ],
      "execution_count": null,
      "outputs": [
        {
          "output_type": "execute_result",
          "data": {
            "text/html": [
              "<div>\n",
              "<style scoped>\n",
              "    .dataframe tbody tr th:only-of-type {\n",
              "        vertical-align: middle;\n",
              "    }\n",
              "\n",
              "    .dataframe tbody tr th {\n",
              "        vertical-align: top;\n",
              "    }\n",
              "\n",
              "    .dataframe thead th {\n",
              "        text-align: right;\n",
              "    }\n",
              "</style>\n",
              "<table border=\"1\" class=\"dataframe\">\n",
              "  <thead>\n",
              "    <tr style=\"text-align: right;\">\n",
              "      <th></th>\n",
              "      <th>year</th>\n",
              "      <th>contig</th>\n",
              "      <th>comlang_off</th>\n",
              "      <th>distw</th>\n",
              "      <th>pop_o</th>\n",
              "      <th>gdp_o</th>\n",
              "      <th>gdpcap_o</th>\n",
              "      <th>pop_d</th>\n",
              "      <th>gdp_d</th>\n",
              "      <th>gdpcap_d</th>\n",
              "      <th>heg_d</th>\n",
              "      <th>conflict</th>\n",
              "      <th>indepdate</th>\n",
              "      <th>heg_o</th>\n",
              "      <th>col_to</th>\n",
              "      <th>col_fr</th>\n",
              "      <th>col_hist</th>\n",
              "      <th>col_cur</th>\n",
              "      <th>sever</th>\n",
              "      <th>sib_conflict</th>\n",
              "      <th>gatt_o</th>\n",
              "      <th>gatt_d</th>\n",
              "      <th>rta</th>\n",
              "      <th>comleg</th>\n",
              "      <th>comcur</th>\n",
              "      <th>acp_to_eu</th>\n",
              "      <th>gsp</th>\n",
              "      <th>eu_to_acp</th>\n",
              "      <th>gsp_rec</th>\n",
              "      <th>flow</th>\n",
              "      <th>validmirror</th>\n",
              "    </tr>\n",
              "  </thead>\n",
              "  <tbody>\n",
              "    <tr>\n",
              "      <th>count</th>\n",
              "      <td>1.204671e+06</td>\n",
              "      <td>1.204671e+06</td>\n",
              "      <td>1.204671e+06</td>\n",
              "      <td>1.204671e+06</td>\n",
              "      <td>1.136274e+06</td>\n",
              "      <td>1.033419e+06</td>\n",
              "      <td>1.030200e+06</td>\n",
              "      <td>1.164851e+06</td>\n",
              "      <td>1.084849e+06</td>\n",
              "      <td>1.080866e+06</td>\n",
              "      <td>1.204671e+06</td>\n",
              "      <td>18862.000000</td>\n",
              "      <td>18862.000000</td>\n",
              "      <td>1.204671e+06</td>\n",
              "      <td>1.204671e+06</td>\n",
              "      <td>1.204671e+06</td>\n",
              "      <td>1.204671e+06</td>\n",
              "      <td>1.204671e+06</td>\n",
              "      <td>234446.000000</td>\n",
              "      <td>235366.000000</td>\n",
              "      <td>1.204671e+06</td>\n",
              "      <td>1.204671e+06</td>\n",
              "      <td>1.204671e+06</td>\n",
              "      <td>1.204671e+06</td>\n",
              "      <td>1.204671e+06</td>\n",
              "      <td>1.204671e+06</td>\n",
              "      <td>1.204671e+06</td>\n",
              "      <td>1.204671e+06</td>\n",
              "      <td>1.204671e+06</td>\n",
              "      <td>1.204671e+06</td>\n",
              "      <td>1.204671e+06</td>\n",
              "    </tr>\n",
              "    <tr>\n",
              "      <th>mean</th>\n",
              "      <td>1.982100e+03</td>\n",
              "      <td>2.044127e-02</td>\n",
              "      <td>1.793004e-01</td>\n",
              "      <td>7.701469e+03</td>\n",
              "      <td>3.259678e+01</td>\n",
              "      <td>1.346621e+05</td>\n",
              "      <td>4.553223e+03</td>\n",
              "      <td>3.221703e+01</td>\n",
              "      <td>1.300253e+05</td>\n",
              "      <td>4.434455e+03</td>\n",
              "      <td>9.092109e-03</td>\n",
              "      <td>0.275050</td>\n",
              "      <td>1925.111653</td>\n",
              "      <td>7.988903e-03</td>\n",
              "      <td>7.988903e-03</td>\n",
              "      <td>9.092109e-03</td>\n",
              "      <td>1.708101e-02</td>\n",
              "      <td>3.585211e-03</td>\n",
              "      <td>1915.502551</td>\n",
              "      <td>0.262124</td>\n",
              "      <td>5.645425e-01</td>\n",
              "      <td>6.014323e-01</td>\n",
              "      <td>2.710948e-02</td>\n",
              "      <td>3.553925e-01</td>\n",
              "      <td>1.915959e-02</td>\n",
              "      <td>2.208985e-02</td>\n",
              "      <td>6.085064e-02</td>\n",
              "      <td>2.159760e-02</td>\n",
              "      <td>6.095689e-02</td>\n",
              "      <td>1.279010e+02</td>\n",
              "      <td>7.967545e-01</td>\n",
              "    </tr>\n",
              "    <tr>\n",
              "      <th>std</th>\n",
              "      <td>1.648490e+01</td>\n",
              "      <td>1.415042e-01</td>\n",
              "      <td>3.836038e-01</td>\n",
              "      <td>4.444266e+03</td>\n",
              "      <td>1.134587e+02</td>\n",
              "      <td>6.424885e+05</td>\n",
              "      <td>7.933045e+03</td>\n",
              "      <td>1.103110e+02</td>\n",
              "      <td>6.299589e+05</td>\n",
              "      <td>7.831898e+03</td>\n",
              "      <td>9.491812e-02</td>\n",
              "      <td>0.446551</td>\n",
              "      <td>59.238906</td>\n",
              "      <td>8.902296e-02</td>\n",
              "      <td>8.902296e-02</td>\n",
              "      <td>9.491812e-02</td>\n",
              "      <td>1.295734e-01</td>\n",
              "      <td>5.976923e-02</td>\n",
              "      <td>61.183516</td>\n",
              "      <td>0.439790</td>\n",
              "      <td>4.958170e-01</td>\n",
              "      <td>4.896036e-01</td>\n",
              "      <td>1.624025e-01</td>\n",
              "      <td>4.786323e-01</td>\n",
              "      <td>1.370858e-01</td>\n",
              "      <td>1.469759e-01</td>\n",
              "      <td>2.390562e-01</td>\n",
              "      <td>1.453656e-01</td>\n",
              "      <td>2.392513e-01</td>\n",
              "      <td>1.995513e+03</td>\n",
              "      <td>4.024139e-01</td>\n",
              "    </tr>\n",
              "    <tr>\n",
              "      <th>min</th>\n",
              "      <td>1.948000e+03</td>\n",
              "      <td>0.000000e+00</td>\n",
              "      <td>0.000000e+00</td>\n",
              "      <td>6.077057e+01</td>\n",
              "      <td>1.970000e-02</td>\n",
              "      <td>1.159205e+01</td>\n",
              "      <td>6.813283e+00</td>\n",
              "      <td>1.970000e-02</td>\n",
              "      <td>1.159205e+01</td>\n",
              "      <td>6.813283e+00</td>\n",
              "      <td>0.000000e+00</td>\n",
              "      <td>0.000000</td>\n",
              "      <td>1710.000000</td>\n",
              "      <td>0.000000e+00</td>\n",
              "      <td>0.000000e+00</td>\n",
              "      <td>0.000000e+00</td>\n",
              "      <td>0.000000e+00</td>\n",
              "      <td>0.000000e+00</td>\n",
              "      <td>1763.000000</td>\n",
              "      <td>0.000000</td>\n",
              "      <td>0.000000e+00</td>\n",
              "      <td>0.000000e+00</td>\n",
              "      <td>0.000000e+00</td>\n",
              "      <td>0.000000e+00</td>\n",
              "      <td>0.000000e+00</td>\n",
              "      <td>0.000000e+00</td>\n",
              "      <td>0.000000e+00</td>\n",
              "      <td>0.000000e+00</td>\n",
              "      <td>0.000000e+00</td>\n",
              "      <td>0.000000e+00</td>\n",
              "      <td>0.000000e+00</td>\n",
              "    </tr>\n",
              "    <tr>\n",
              "      <th>25%</th>\n",
              "      <td>1.969000e+03</td>\n",
              "      <td>0.000000e+00</td>\n",
              "      <td>0.000000e+00</td>\n",
              "      <td>4.177173e+03</td>\n",
              "      <td>2.113000e+00</td>\n",
              "      <td>1.706000e+03</td>\n",
              "      <td>3.577469e+02</td>\n",
              "      <td>2.503799e+00</td>\n",
              "      <td>1.705801e+03</td>\n",
              "      <td>3.500164e+02</td>\n",
              "      <td>0.000000e+00</td>\n",
              "      <td>0.000000</td>\n",
              "      <td>1901.000000</td>\n",
              "      <td>0.000000e+00</td>\n",
              "      <td>0.000000e+00</td>\n",
              "      <td>0.000000e+00</td>\n",
              "      <td>0.000000e+00</td>\n",
              "      <td>0.000000e+00</td>\n",
              "      <td>1901.000000</td>\n",
              "      <td>0.000000</td>\n",
              "      <td>0.000000e+00</td>\n",
              "      <td>0.000000e+00</td>\n",
              "      <td>0.000000e+00</td>\n",
              "      <td>0.000000e+00</td>\n",
              "      <td>0.000000e+00</td>\n",
              "      <td>0.000000e+00</td>\n",
              "      <td>0.000000e+00</td>\n",
              "      <td>0.000000e+00</td>\n",
              "      <td>0.000000e+00</td>\n",
              "      <td>0.000000e+00</td>\n",
              "      <td>1.000000e+00</td>\n",
              "    </tr>\n",
              "    <tr>\n",
              "      <th>50%</th>\n",
              "      <td>1.984000e+03</td>\n",
              "      <td>0.000000e+00</td>\n",
              "      <td>0.000000e+00</td>\n",
              "      <td>7.333459e+03</td>\n",
              "      <td>7.153015e+00</td>\n",
              "      <td>7.638028e+03</td>\n",
              "      <td>1.161255e+03</td>\n",
              "      <td>7.553096e+00</td>\n",
              "      <td>7.327690e+03</td>\n",
              "      <td>1.118617e+03</td>\n",
              "      <td>0.000000e+00</td>\n",
              "      <td>0.000000</td>\n",
              "      <td>1954.000000</td>\n",
              "      <td>0.000000e+00</td>\n",
              "      <td>0.000000e+00</td>\n",
              "      <td>0.000000e+00</td>\n",
              "      <td>0.000000e+00</td>\n",
              "      <td>0.000000e+00</td>\n",
              "      <td>1947.000000</td>\n",
              "      <td>0.000000</td>\n",
              "      <td>1.000000e+00</td>\n",
              "      <td>1.000000e+00</td>\n",
              "      <td>0.000000e+00</td>\n",
              "      <td>0.000000e+00</td>\n",
              "      <td>0.000000e+00</td>\n",
              "      <td>0.000000e+00</td>\n",
              "      <td>0.000000e+00</td>\n",
              "      <td>0.000000e+00</td>\n",
              "      <td>0.000000e+00</td>\n",
              "      <td>5.860000e-02</td>\n",
              "      <td>1.000000e+00</td>\n",
              "    </tr>\n",
              "    <tr>\n",
              "      <th>75%</th>\n",
              "      <td>1.997000e+03</td>\n",
              "      <td>0.000000e+00</td>\n",
              "      <td>0.000000e+00</td>\n",
              "      <td>1.067430e+04</td>\n",
              "      <td>2.152495e+01</td>\n",
              "      <td>4.817786e+04</td>\n",
              "      <td>4.255546e+03</td>\n",
              "      <td>2.204800e+01</td>\n",
              "      <td>4.491000e+04</td>\n",
              "      <td>4.071642e+03</td>\n",
              "      <td>0.000000e+00</td>\n",
              "      <td>1.000000</td>\n",
              "      <td>1966.000000</td>\n",
              "      <td>0.000000e+00</td>\n",
              "      <td>0.000000e+00</td>\n",
              "      <td>0.000000e+00</td>\n",
              "      <td>0.000000e+00</td>\n",
              "      <td>0.000000e+00</td>\n",
              "      <td>1960.000000</td>\n",
              "      <td>1.000000</td>\n",
              "      <td>1.000000e+00</td>\n",
              "      <td>1.000000e+00</td>\n",
              "      <td>0.000000e+00</td>\n",
              "      <td>1.000000e+00</td>\n",
              "      <td>0.000000e+00</td>\n",
              "      <td>0.000000e+00</td>\n",
              "      <td>0.000000e+00</td>\n",
              "      <td>0.000000e+00</td>\n",
              "      <td>0.000000e+00</td>\n",
              "      <td>4.330000e+00</td>\n",
              "      <td>1.000000e+00</td>\n",
              "    </tr>\n",
              "    <tr>\n",
              "      <th>max</th>\n",
              "      <td>2.006000e+03</td>\n",
              "      <td>1.000000e+00</td>\n",
              "      <td>1.000000e+00</td>\n",
              "      <td>1.978139e+04</td>\n",
              "      <td>1.311798e+03</td>\n",
              "      <td>1.320182e+07</td>\n",
              "      <td>8.956363e+04</td>\n",
              "      <td>1.311798e+03</td>\n",
              "      <td>1.320182e+07</td>\n",
              "      <td>8.956363e+04</td>\n",
              "      <td>1.000000e+00</td>\n",
              "      <td>1.000000</td>\n",
              "      <td>1999.000000</td>\n",
              "      <td>1.000000e+00</td>\n",
              "      <td>1.000000e+00</td>\n",
              "      <td>1.000000e+00</td>\n",
              "      <td>1.000000e+00</td>\n",
              "      <td>1.000000e+00</td>\n",
              "      <td>1997.000000</td>\n",
              "      <td>1.000000</td>\n",
              "      <td>1.000000e+00</td>\n",
              "      <td>1.000000e+00</td>\n",
              "      <td>1.000000e+00</td>\n",
              "      <td>1.000000e+00</td>\n",
              "      <td>1.000000e+00</td>\n",
              "      <td>1.000000e+00</td>\n",
              "      <td>1.000000e+00</td>\n",
              "      <td>1.000000e+00</td>\n",
              "      <td>1.000000e+00</td>\n",
              "      <td>3.484206e+05</td>\n",
              "      <td>1.000000e+00</td>\n",
              "    </tr>\n",
              "  </tbody>\n",
              "</table>\n",
              "</div>"
            ],
            "text/plain": [
              "               year        contig   comlang_off         distw         pop_o  \\\n",
              "count  1.204671e+06  1.204671e+06  1.204671e+06  1.204671e+06  1.136274e+06   \n",
              "mean   1.982100e+03  2.044127e-02  1.793004e-01  7.701469e+03  3.259678e+01   \n",
              "std    1.648490e+01  1.415042e-01  3.836038e-01  4.444266e+03  1.134587e+02   \n",
              "min    1.948000e+03  0.000000e+00  0.000000e+00  6.077057e+01  1.970000e-02   \n",
              "25%    1.969000e+03  0.000000e+00  0.000000e+00  4.177173e+03  2.113000e+00   \n",
              "50%    1.984000e+03  0.000000e+00  0.000000e+00  7.333459e+03  7.153015e+00   \n",
              "75%    1.997000e+03  0.000000e+00  0.000000e+00  1.067430e+04  2.152495e+01   \n",
              "max    2.006000e+03  1.000000e+00  1.000000e+00  1.978139e+04  1.311798e+03   \n",
              "\n",
              "              gdp_o      gdpcap_o         pop_d         gdp_d      gdpcap_d  \\\n",
              "count  1.033419e+06  1.030200e+06  1.164851e+06  1.084849e+06  1.080866e+06   \n",
              "mean   1.346621e+05  4.553223e+03  3.221703e+01  1.300253e+05  4.434455e+03   \n",
              "std    6.424885e+05  7.933045e+03  1.103110e+02  6.299589e+05  7.831898e+03   \n",
              "min    1.159205e+01  6.813283e+00  1.970000e-02  1.159205e+01  6.813283e+00   \n",
              "25%    1.706000e+03  3.577469e+02  2.503799e+00  1.705801e+03  3.500164e+02   \n",
              "50%    7.638028e+03  1.161255e+03  7.553096e+00  7.327690e+03  1.118617e+03   \n",
              "75%    4.817786e+04  4.255546e+03  2.204800e+01  4.491000e+04  4.071642e+03   \n",
              "max    1.320182e+07  8.956363e+04  1.311798e+03  1.320182e+07  8.956363e+04   \n",
              "\n",
              "              heg_d      conflict     indepdate         heg_o        col_to  \\\n",
              "count  1.204671e+06  18862.000000  18862.000000  1.204671e+06  1.204671e+06   \n",
              "mean   9.092109e-03      0.275050   1925.111653  7.988903e-03  7.988903e-03   \n",
              "std    9.491812e-02      0.446551     59.238906  8.902296e-02  8.902296e-02   \n",
              "min    0.000000e+00      0.000000   1710.000000  0.000000e+00  0.000000e+00   \n",
              "25%    0.000000e+00      0.000000   1901.000000  0.000000e+00  0.000000e+00   \n",
              "50%    0.000000e+00      0.000000   1954.000000  0.000000e+00  0.000000e+00   \n",
              "75%    0.000000e+00      1.000000   1966.000000  0.000000e+00  0.000000e+00   \n",
              "max    1.000000e+00      1.000000   1999.000000  1.000000e+00  1.000000e+00   \n",
              "\n",
              "             col_fr      col_hist       col_cur          sever   sib_conflict  \\\n",
              "count  1.204671e+06  1.204671e+06  1.204671e+06  234446.000000  235366.000000   \n",
              "mean   9.092109e-03  1.708101e-02  3.585211e-03    1915.502551       0.262124   \n",
              "std    9.491812e-02  1.295734e-01  5.976923e-02      61.183516       0.439790   \n",
              "min    0.000000e+00  0.000000e+00  0.000000e+00    1763.000000       0.000000   \n",
              "25%    0.000000e+00  0.000000e+00  0.000000e+00    1901.000000       0.000000   \n",
              "50%    0.000000e+00  0.000000e+00  0.000000e+00    1947.000000       0.000000   \n",
              "75%    0.000000e+00  0.000000e+00  0.000000e+00    1960.000000       1.000000   \n",
              "max    1.000000e+00  1.000000e+00  1.000000e+00    1997.000000       1.000000   \n",
              "\n",
              "             gatt_o        gatt_d           rta        comleg        comcur  \\\n",
              "count  1.204671e+06  1.204671e+06  1.204671e+06  1.204671e+06  1.204671e+06   \n",
              "mean   5.645425e-01  6.014323e-01  2.710948e-02  3.553925e-01  1.915959e-02   \n",
              "std    4.958170e-01  4.896036e-01  1.624025e-01  4.786323e-01  1.370858e-01   \n",
              "min    0.000000e+00  0.000000e+00  0.000000e+00  0.000000e+00  0.000000e+00   \n",
              "25%    0.000000e+00  0.000000e+00  0.000000e+00  0.000000e+00  0.000000e+00   \n",
              "50%    1.000000e+00  1.000000e+00  0.000000e+00  0.000000e+00  0.000000e+00   \n",
              "75%    1.000000e+00  1.000000e+00  0.000000e+00  1.000000e+00  0.000000e+00   \n",
              "max    1.000000e+00  1.000000e+00  1.000000e+00  1.000000e+00  1.000000e+00   \n",
              "\n",
              "          acp_to_eu           gsp     eu_to_acp       gsp_rec          flow  \\\n",
              "count  1.204671e+06  1.204671e+06  1.204671e+06  1.204671e+06  1.204671e+06   \n",
              "mean   2.208985e-02  6.085064e-02  2.159760e-02  6.095689e-02  1.279010e+02   \n",
              "std    1.469759e-01  2.390562e-01  1.453656e-01  2.392513e-01  1.995513e+03   \n",
              "min    0.000000e+00  0.000000e+00  0.000000e+00  0.000000e+00  0.000000e+00   \n",
              "25%    0.000000e+00  0.000000e+00  0.000000e+00  0.000000e+00  0.000000e+00   \n",
              "50%    0.000000e+00  0.000000e+00  0.000000e+00  0.000000e+00  5.860000e-02   \n",
              "75%    0.000000e+00  0.000000e+00  0.000000e+00  0.000000e+00  4.330000e+00   \n",
              "max    1.000000e+00  1.000000e+00  1.000000e+00  1.000000e+00  3.484206e+05   \n",
              "\n",
              "        validmirror  \n",
              "count  1.204671e+06  \n",
              "mean   7.967545e-01  \n",
              "std    4.024139e-01  \n",
              "min    0.000000e+00  \n",
              "25%    1.000000e+00  \n",
              "50%    1.000000e+00  \n",
              "75%    1.000000e+00  \n",
              "max    1.000000e+00  "
            ]
          },
          "metadata": {
            "tags": []
          },
          "execution_count": 6
        }
      ]
    },
    {
      "cell_type": "code",
      "metadata": {
        "colab": {
          "base_uri": "https://localhost:8080/"
        },
        "id": "LL04Z5pmxWhK",
        "outputId": "a86caca6-dd2f-4462-a590-5068ac467fc5"
      },
      "source": [
        "print (\"Total number of rows in dataset = {}\".format(df.shape[0]))\n",
        "print (\"Total number of columns in dataset = {}\".format(df.shape[1]))"
      ],
      "execution_count": null,
      "outputs": [
        {
          "output_type": "stream",
          "text": [
            "Total number of rows in dataset = 1204671\n",
            "Total number of columns in dataset = 36\n"
          ],
          "name": "stdout"
        }
      ]
    },
    {
      "cell_type": "code",
      "metadata": {
        "colab": {
          "base_uri": "https://localhost:8080/"
        },
        "id": "SPcIhcp6dkUo",
        "outputId": "4e45f994-b04d-4b99-f9ff-c9da1ee3636c"
      },
      "source": [
        "df['year'].unique()"
      ],
      "execution_count": null,
      "outputs": [
        {
          "output_type": "execute_result",
          "data": {
            "text/plain": [
              "array([1999, 2000, 2001, 2002, 2003, 2004, 2005, 2006, 1986, 1987, 1988,\n",
              "       1989, 1990, 1991, 1992, 1993, 1994, 1995, 1996, 1997, 1998, 1984,\n",
              "       1985, 1982, 1983, 1980, 1981, 1970, 1971, 1972, 1973, 1974, 1975,\n",
              "       1976, 1977, 1978, 1979, 1948, 1952, 1953, 1954, 1955, 1956, 1957,\n",
              "       1958, 1959, 1960, 1961, 1962, 1963, 1964, 1965, 1966, 1967, 1968,\n",
              "       1969, 1949, 1950, 1951])"
            ]
          },
          "metadata": {
            "tags": []
          },
          "execution_count": 8
        }
      ]
    },
    {
      "cell_type": "code",
      "metadata": {
        "colab": {
          "base_uri": "https://localhost:8080/"
        },
        "id": "CfGhDi_beshn",
        "outputId": "c97c44da-7640-4687-e621-191efd072d10"
      },
      "source": [
        "df['iso_o'].nunique()"
      ],
      "execution_count": null,
      "outputs": [
        {
          "output_type": "execute_result",
          "data": {
            "text/plain": [
              "208"
            ]
          },
          "metadata": {
            "tags": []
          },
          "execution_count": 9
        }
      ]
    },
    {
      "cell_type": "code",
      "metadata": {
        "colab": {
          "base_uri": "https://localhost:8080/"
        },
        "id": "NOlZaf3dgoBm",
        "outputId": "156451e1-e4cb-4a4e-8a44-4eb14b2aa05a"
      },
      "source": [
        "df.year.value_counts()"
      ],
      "execution_count": null,
      "outputs": [
        {
          "output_type": "execute_result",
          "data": {
            "text/plain": [
              "2003    30578\n",
              "2006    30574\n",
              "2005    30567\n",
              "2002    30552\n",
              "2004    30545\n",
              "2001    30536\n",
              "2000    30498\n",
              "1999    29856\n",
              "1996    29655\n",
              "1998    29508\n",
              "1995    29139\n",
              "1997    29053\n",
              "1994    28547\n",
              "1993    27399\n",
              "1992    25703\n",
              "1991    23694\n",
              "1990    23376\n",
              "1989    22668\n",
              "1988    22104\n",
              "1987    21892\n",
              "1986    21436\n",
              "1985    21287\n",
              "1984    21094\n",
              "1983    20981\n",
              "1982    20938\n",
              "1981    20868\n",
              "1974    19410\n",
              "1973    19397\n",
              "1975    19193\n",
              "1977    19099\n",
              "1980    19050\n",
              "1972    19007\n",
              "1976    18987\n",
              "1978    18932\n",
              "1971    18861\n",
              "1979    18826\n",
              "1970    18787\n",
              "1969    18135\n",
              "1968    17872\n",
              "1967    17634\n",
              "1966    17392\n",
              "1964    17212\n",
              "1965    16989\n",
              "1963    16358\n",
              "1962    15025\n",
              "1961    14652\n",
              "1960    14357\n",
              "1959    13917\n",
              "1958    13183\n",
              "1956    12888\n",
              "1955    12744\n",
              "1957    12641\n",
              "1948    12094\n",
              "1953    11820\n",
              "1952    11684\n",
              "1954    11628\n",
              "1951    11483\n",
              "1950    11217\n",
              "1949    11149\n",
              "Name: year, dtype: int64"
            ]
          },
          "metadata": {
            "tags": []
          },
          "execution_count": 10
        }
      ]
    },
    {
      "cell_type": "code",
      "metadata": {
        "colab": {
          "base_uri": "https://localhost:8080/"
        },
        "id": "l9h3pYPSgupx",
        "outputId": "5139516b-585e-435c-d921-06d77a2bcc2c"
      },
      "source": [
        "df.iso_o.value_counts()"
      ],
      "execution_count": null,
      "outputs": [
        {
          "output_type": "execute_result",
          "data": {
            "text/plain": [
              "GBR    9411\n",
              "NLD    9194\n",
              "FRA    9166\n",
              "JPN    9145\n",
              "BEL    9131\n",
              "       ... \n",
              "MHL      14\n",
              "SMR      14\n",
              "AND      14\n",
              "TMP       5\n",
              "FSM       1\n",
              "Name: iso_o, Length: 208, dtype: int64"
            ]
          },
          "metadata": {
            "tags": []
          },
          "execution_count": 11
        }
      ]
    },
    {
      "cell_type": "code",
      "metadata": {
        "id": "dQNLVd1GMiel"
      },
      "source": [
        "df_2=df.copy(deep=True)"
      ],
      "execution_count": null,
      "outputs": []
    },
    {
      "cell_type": "code",
      "metadata": {
        "colab": {
          "base_uri": "https://localhost:8080/",
          "height": 216
        },
        "id": "yERxdZ6sMznr",
        "outputId": "080edbd2-f6aa-490b-c61d-98bbec4d9135"
      },
      "source": [
        "df_2.head()"
      ],
      "execution_count": null,
      "outputs": [
        {
          "output_type": "execute_result",
          "data": {
            "text/html": [
              "<div>\n",
              "<style scoped>\n",
              "    .dataframe tbody tr th:only-of-type {\n",
              "        vertical-align: middle;\n",
              "    }\n",
              "\n",
              "    .dataframe tbody tr th {\n",
              "        vertical-align: top;\n",
              "    }\n",
              "\n",
              "    .dataframe thead th {\n",
              "        text-align: right;\n",
              "    }\n",
              "</style>\n",
              "<table border=\"1\" class=\"dataframe\">\n",
              "  <thead>\n",
              "    <tr style=\"text-align: right;\">\n",
              "      <th></th>\n",
              "      <th>year</th>\n",
              "      <th>iso_o</th>\n",
              "      <th>iso_d</th>\n",
              "      <th>contig</th>\n",
              "      <th>comlang_off</th>\n",
              "      <th>distw</th>\n",
              "      <th>pop_o</th>\n",
              "      <th>gdp_o</th>\n",
              "      <th>gdpcap_o</th>\n",
              "      <th>iso2_o</th>\n",
              "      <th>pop_d</th>\n",
              "      <th>gdp_d</th>\n",
              "      <th>gdpcap_d</th>\n",
              "      <th>iso2_d</th>\n",
              "      <th>heg_d</th>\n",
              "      <th>conflict</th>\n",
              "      <th>indepdate</th>\n",
              "      <th>heg_o</th>\n",
              "      <th>col_to</th>\n",
              "      <th>col_fr</th>\n",
              "      <th>col_hist</th>\n",
              "      <th>col_cur</th>\n",
              "      <th>sever</th>\n",
              "      <th>sib_conflict</th>\n",
              "      <th>gatt_o</th>\n",
              "      <th>gatt_d</th>\n",
              "      <th>rta</th>\n",
              "      <th>comleg</th>\n",
              "      <th>comcur</th>\n",
              "      <th>acp_to_eu</th>\n",
              "      <th>gsp</th>\n",
              "      <th>eu_to_acp</th>\n",
              "      <th>gsp_rec</th>\n",
              "      <th>flow</th>\n",
              "      <th>validmirror</th>\n",
              "      <th>family</th>\n",
              "    </tr>\n",
              "  </thead>\n",
              "  <tbody>\n",
              "    <tr>\n",
              "      <th>0</th>\n",
              "      <td>1999</td>\n",
              "      <td>ABW</td>\n",
              "      <td>AGO</td>\n",
              "      <td>0</td>\n",
              "      <td>0</td>\n",
              "      <td>9587.315563</td>\n",
              "      <td>NaN</td>\n",
              "      <td>1722.905029</td>\n",
              "      <td>NaN</td>\n",
              "      <td>AW</td>\n",
              "      <td>13.500820</td>\n",
              "      <td>6154.479980</td>\n",
              "      <td>455.859711</td>\n",
              "      <td>AO</td>\n",
              "      <td>0</td>\n",
              "      <td>NaN</td>\n",
              "      <td>NaN</td>\n",
              "      <td>0</td>\n",
              "      <td>0</td>\n",
              "      <td>0</td>\n",
              "      <td>0</td>\n",
              "      <td>0</td>\n",
              "      <td>NaN</td>\n",
              "      <td>NaN</td>\n",
              "      <td>0</td>\n",
              "      <td>1</td>\n",
              "      <td>0</td>\n",
              "      <td>1</td>\n",
              "      <td>0</td>\n",
              "      <td>0</td>\n",
              "      <td>0</td>\n",
              "      <td>0</td>\n",
              "      <td>0</td>\n",
              "      <td>0.0</td>\n",
              "      <td>0</td>\n",
              "      <td>NaN</td>\n",
              "    </tr>\n",
              "    <tr>\n",
              "      <th>1</th>\n",
              "      <td>2000</td>\n",
              "      <td>ABW</td>\n",
              "      <td>AGO</td>\n",
              "      <td>0</td>\n",
              "      <td>0</td>\n",
              "      <td>9587.315563</td>\n",
              "      <td>NaN</td>\n",
              "      <td>1858.659180</td>\n",
              "      <td>NaN</td>\n",
              "      <td>AW</td>\n",
              "      <td>13.840636</td>\n",
              "      <td>9129.179688</td>\n",
              "      <td>659.592468</td>\n",
              "      <td>AO</td>\n",
              "      <td>0</td>\n",
              "      <td>NaN</td>\n",
              "      <td>NaN</td>\n",
              "      <td>0</td>\n",
              "      <td>0</td>\n",
              "      <td>0</td>\n",
              "      <td>0</td>\n",
              "      <td>0</td>\n",
              "      <td>NaN</td>\n",
              "      <td>NaN</td>\n",
              "      <td>0</td>\n",
              "      <td>1</td>\n",
              "      <td>0</td>\n",
              "      <td>1</td>\n",
              "      <td>0</td>\n",
              "      <td>0</td>\n",
              "      <td>0</td>\n",
              "      <td>0</td>\n",
              "      <td>0</td>\n",
              "      <td>0.0</td>\n",
              "      <td>1</td>\n",
              "      <td>NaN</td>\n",
              "    </tr>\n",
              "    <tr>\n",
              "      <th>2</th>\n",
              "      <td>2001</td>\n",
              "      <td>ABW</td>\n",
              "      <td>AGO</td>\n",
              "      <td>0</td>\n",
              "      <td>0</td>\n",
              "      <td>9587.315563</td>\n",
              "      <td>NaN</td>\n",
              "      <td>1898.882690</td>\n",
              "      <td>NaN</td>\n",
              "      <td>AW</td>\n",
              "      <td>14.214834</td>\n",
              "      <td>8936.023438</td>\n",
              "      <td>628.640686</td>\n",
              "      <td>AO</td>\n",
              "      <td>0</td>\n",
              "      <td>NaN</td>\n",
              "      <td>NaN</td>\n",
              "      <td>0</td>\n",
              "      <td>0</td>\n",
              "      <td>0</td>\n",
              "      <td>0</td>\n",
              "      <td>0</td>\n",
              "      <td>NaN</td>\n",
              "      <td>NaN</td>\n",
              "      <td>0</td>\n",
              "      <td>1</td>\n",
              "      <td>0</td>\n",
              "      <td>1</td>\n",
              "      <td>0</td>\n",
              "      <td>0</td>\n",
              "      <td>0</td>\n",
              "      <td>0</td>\n",
              "      <td>0</td>\n",
              "      <td>0.0</td>\n",
              "      <td>1</td>\n",
              "      <td>NaN</td>\n",
              "    </tr>\n",
              "    <tr>\n",
              "      <th>3</th>\n",
              "      <td>2002</td>\n",
              "      <td>ABW</td>\n",
              "      <td>AGO</td>\n",
              "      <td>0</td>\n",
              "      <td>0</td>\n",
              "      <td>9587.315563</td>\n",
              "      <td>NaN</td>\n",
              "      <td>1911.173218</td>\n",
              "      <td>NaN</td>\n",
              "      <td>AW</td>\n",
              "      <td>14.618782</td>\n",
              "      <td>11431.738281</td>\n",
              "      <td>781.989807</td>\n",
              "      <td>AO</td>\n",
              "      <td>0</td>\n",
              "      <td>NaN</td>\n",
              "      <td>NaN</td>\n",
              "      <td>0</td>\n",
              "      <td>0</td>\n",
              "      <td>0</td>\n",
              "      <td>0</td>\n",
              "      <td>0</td>\n",
              "      <td>NaN</td>\n",
              "      <td>NaN</td>\n",
              "      <td>0</td>\n",
              "      <td>1</td>\n",
              "      <td>0</td>\n",
              "      <td>1</td>\n",
              "      <td>0</td>\n",
              "      <td>0</td>\n",
              "      <td>0</td>\n",
              "      <td>0</td>\n",
              "      <td>0</td>\n",
              "      <td>0.0</td>\n",
              "      <td>1</td>\n",
              "      <td>NaN</td>\n",
              "    </tr>\n",
              "    <tr>\n",
              "      <th>4</th>\n",
              "      <td>2003</td>\n",
              "      <td>ABW</td>\n",
              "      <td>AGO</td>\n",
              "      <td>0</td>\n",
              "      <td>0</td>\n",
              "      <td>9587.315563</td>\n",
              "      <td>0.099</td>\n",
              "      <td>NaN</td>\n",
              "      <td>NaN</td>\n",
              "      <td>AW</td>\n",
              "      <td>15.046907</td>\n",
              "      <td>13956.267578</td>\n",
              "      <td>927.517334</td>\n",
              "      <td>AO</td>\n",
              "      <td>0</td>\n",
              "      <td>NaN</td>\n",
              "      <td>NaN</td>\n",
              "      <td>0</td>\n",
              "      <td>0</td>\n",
              "      <td>0</td>\n",
              "      <td>0</td>\n",
              "      <td>0</td>\n",
              "      <td>NaN</td>\n",
              "      <td>NaN</td>\n",
              "      <td>0</td>\n",
              "      <td>1</td>\n",
              "      <td>0</td>\n",
              "      <td>1</td>\n",
              "      <td>0</td>\n",
              "      <td>0</td>\n",
              "      <td>0</td>\n",
              "      <td>0</td>\n",
              "      <td>0</td>\n",
              "      <td>0.0</td>\n",
              "      <td>1</td>\n",
              "      <td>NaN</td>\n",
              "    </tr>\n",
              "  </tbody>\n",
              "</table>\n",
              "</div>"
            ],
            "text/plain": [
              "   year iso_o iso_d  contig  comlang_off        distw  pop_o        gdp_o  \\\n",
              "0  1999   ABW   AGO       0            0  9587.315563    NaN  1722.905029   \n",
              "1  2000   ABW   AGO       0            0  9587.315563    NaN  1858.659180   \n",
              "2  2001   ABW   AGO       0            0  9587.315563    NaN  1898.882690   \n",
              "3  2002   ABW   AGO       0            0  9587.315563    NaN  1911.173218   \n",
              "4  2003   ABW   AGO       0            0  9587.315563  0.099          NaN   \n",
              "\n",
              "   gdpcap_o iso2_o      pop_d         gdp_d    gdpcap_d iso2_d  heg_d  \\\n",
              "0       NaN     AW  13.500820   6154.479980  455.859711     AO      0   \n",
              "1       NaN     AW  13.840636   9129.179688  659.592468     AO      0   \n",
              "2       NaN     AW  14.214834   8936.023438  628.640686     AO      0   \n",
              "3       NaN     AW  14.618782  11431.738281  781.989807     AO      0   \n",
              "4       NaN     AW  15.046907  13956.267578  927.517334     AO      0   \n",
              "\n",
              "   conflict  indepdate  heg_o  col_to  col_fr  col_hist  col_cur  sever  \\\n",
              "0       NaN        NaN      0       0       0         0        0    NaN   \n",
              "1       NaN        NaN      0       0       0         0        0    NaN   \n",
              "2       NaN        NaN      0       0       0         0        0    NaN   \n",
              "3       NaN        NaN      0       0       0         0        0    NaN   \n",
              "4       NaN        NaN      0       0       0         0        0    NaN   \n",
              "\n",
              "   sib_conflict  gatt_o  gatt_d  rta  comleg  comcur  acp_to_eu  gsp  \\\n",
              "0           NaN       0       1    0       1       0          0    0   \n",
              "1           NaN       0       1    0       1       0          0    0   \n",
              "2           NaN       0       1    0       1       0          0    0   \n",
              "3           NaN       0       1    0       1       0          0    0   \n",
              "4           NaN       0       1    0       1       0          0    0   \n",
              "\n",
              "   eu_to_acp  gsp_rec  flow  validmirror family  \n",
              "0          0        0   0.0            0    NaN  \n",
              "1          0        0   0.0            1    NaN  \n",
              "2          0        0   0.0            1    NaN  \n",
              "3          0        0   0.0            1    NaN  \n",
              "4          0        0   0.0            1    NaN  "
            ]
          },
          "metadata": {
            "tags": []
          },
          "execution_count": 13
        }
      ]
    },
    {
      "cell_type": "markdown",
      "metadata": {
        "id": "DvoFJQrX8nLP"
      },
      "source": [
        "## Filtering the dataset for the origing country as USA and years after 2000"
      ]
    },
    {
      "cell_type": "code",
      "metadata": {
        "id": "TK9ikLCjg3d6"
      },
      "source": [
        "df_redueced=(df_2['iso_o']=='USA')&(df_2['year']>=2000)"
      ],
      "execution_count": null,
      "outputs": []
    },
    {
      "cell_type": "code",
      "metadata": {
        "colab": {
          "base_uri": "https://localhost:8080/"
        },
        "id": "sH0LCIUx1HV3",
        "outputId": "8ca9d445-a185-450c-cad5-e4f68062db78"
      },
      "source": [
        "df_redueced.head()"
      ],
      "execution_count": null,
      "outputs": [
        {
          "output_type": "execute_result",
          "data": {
            "text/plain": [
              "0    False\n",
              "1    False\n",
              "2    False\n",
              "3    False\n",
              "4    False\n",
              "dtype: bool"
            ]
          },
          "metadata": {
            "tags": []
          },
          "execution_count": 15
        }
      ]
    },
    {
      "cell_type": "code",
      "metadata": {
        "colab": {
          "base_uri": "https://localhost:8080/"
        },
        "id": "Oh_C9jCR1x2o",
        "outputId": "72868473-16dd-481f-a7e1-7096e49d6407"
      },
      "source": [
        "df_redueced.value_counts()"
      ],
      "execution_count": null,
      "outputs": [
        {
          "output_type": "execute_result",
          "data": {
            "text/plain": [
              "False    1203313\n",
              "True        1358\n",
              "dtype: int64"
            ]
          },
          "metadata": {
            "tags": []
          },
          "execution_count": 16
        }
      ]
    },
    {
      "cell_type": "code",
      "metadata": {
        "colab": {
          "base_uri": "https://localhost:8080/"
        },
        "id": "DvVl4gwx2KX6",
        "outputId": "db99245f-fbeb-421c-f603-f31c2c39f008"
      },
      "source": [
        "df_redueced.values"
      ],
      "execution_count": null,
      "outputs": [
        {
          "output_type": "execute_result",
          "data": {
            "text/plain": [
              "array([False, False, False, ..., False, False, False])"
            ]
          },
          "metadata": {
            "tags": []
          },
          "execution_count": 17
        }
      ]
    },
    {
      "cell_type": "markdown",
      "metadata": {
        "id": "4ggFfPaA82fQ"
      },
      "source": [
        "## Creating dataframe from filtered dataset"
      ]
    },
    {
      "cell_type": "code",
      "metadata": {
        "id": "XJg7yrPt3cbK"
      },
      "source": [
        "new_df=df.iloc[df_redueced.values]"
      ],
      "execution_count": null,
      "outputs": []
    },
    {
      "cell_type": "code",
      "metadata": {
        "id": "c1bN2PaCEqcl"
      },
      "source": [
        "test=df.iloc[df_redueced.values]"
      ],
      "execution_count": null,
      "outputs": []
    },
    {
      "cell_type": "code",
      "metadata": {
        "colab": {
          "base_uri": "https://localhost:8080/",
          "height": 216
        },
        "id": "_q0YmQ1a-FEG",
        "outputId": "bc657f95-b7c2-4dab-e17d-3206320f62e6"
      },
      "source": [
        "new_df.head()"
      ],
      "execution_count": null,
      "outputs": [
        {
          "output_type": "execute_result",
          "data": {
            "text/html": [
              "<div>\n",
              "<style scoped>\n",
              "    .dataframe tbody tr th:only-of-type {\n",
              "        vertical-align: middle;\n",
              "    }\n",
              "\n",
              "    .dataframe tbody tr th {\n",
              "        vertical-align: top;\n",
              "    }\n",
              "\n",
              "    .dataframe thead th {\n",
              "        text-align: right;\n",
              "    }\n",
              "</style>\n",
              "<table border=\"1\" class=\"dataframe\">\n",
              "  <thead>\n",
              "    <tr style=\"text-align: right;\">\n",
              "      <th></th>\n",
              "      <th>year</th>\n",
              "      <th>iso_o</th>\n",
              "      <th>iso_d</th>\n",
              "      <th>contig</th>\n",
              "      <th>comlang_off</th>\n",
              "      <th>distw</th>\n",
              "      <th>pop_o</th>\n",
              "      <th>gdp_o</th>\n",
              "      <th>gdpcap_o</th>\n",
              "      <th>iso2_o</th>\n",
              "      <th>pop_d</th>\n",
              "      <th>gdp_d</th>\n",
              "      <th>gdpcap_d</th>\n",
              "      <th>iso2_d</th>\n",
              "      <th>heg_d</th>\n",
              "      <th>conflict</th>\n",
              "      <th>indepdate</th>\n",
              "      <th>heg_o</th>\n",
              "      <th>col_to</th>\n",
              "      <th>col_fr</th>\n",
              "      <th>col_hist</th>\n",
              "      <th>col_cur</th>\n",
              "      <th>sever</th>\n",
              "      <th>sib_conflict</th>\n",
              "      <th>gatt_o</th>\n",
              "      <th>gatt_d</th>\n",
              "      <th>rta</th>\n",
              "      <th>comleg</th>\n",
              "      <th>comcur</th>\n",
              "      <th>acp_to_eu</th>\n",
              "      <th>gsp</th>\n",
              "      <th>eu_to_acp</th>\n",
              "      <th>gsp_rec</th>\n",
              "      <th>flow</th>\n",
              "      <th>validmirror</th>\n",
              "      <th>family</th>\n",
              "    </tr>\n",
              "  </thead>\n",
              "  <tbody>\n",
              "    <tr>\n",
              "      <th>1129144</th>\n",
              "      <td>2000</td>\n",
              "      <td>USA</td>\n",
              "      <td>ABW</td>\n",
              "      <td>0</td>\n",
              "      <td>0</td>\n",
              "      <td>3859.885497</td>\n",
              "      <td>282.223999</td>\n",
              "      <td>9764800.0</td>\n",
              "      <td>34599.468750</td>\n",
              "      <td>US</td>\n",
              "      <td>NaN</td>\n",
              "      <td>1858.659180</td>\n",
              "      <td>NaN</td>\n",
              "      <td>AW</td>\n",
              "      <td>0</td>\n",
              "      <td>NaN</td>\n",
              "      <td>NaN</td>\n",
              "      <td>0</td>\n",
              "      <td>0</td>\n",
              "      <td>0</td>\n",
              "      <td>0</td>\n",
              "      <td>0</td>\n",
              "      <td>NaN</td>\n",
              "      <td>NaN</td>\n",
              "      <td>1</td>\n",
              "      <td>0</td>\n",
              "      <td>0</td>\n",
              "      <td>0</td>\n",
              "      <td>0</td>\n",
              "      <td>0</td>\n",
              "      <td>0</td>\n",
              "      <td>0</td>\n",
              "      <td>0</td>\n",
              "      <td>408.177</td>\n",
              "      <td>1</td>\n",
              "      <td>NaN</td>\n",
              "    </tr>\n",
              "    <tr>\n",
              "      <th>1129145</th>\n",
              "      <td>2001</td>\n",
              "      <td>USA</td>\n",
              "      <td>ABW</td>\n",
              "      <td>0</td>\n",
              "      <td>0</td>\n",
              "      <td>3859.885497</td>\n",
              "      <td>285.317993</td>\n",
              "      <td>10075900.0</td>\n",
              "      <td>35314.632812</td>\n",
              "      <td>US</td>\n",
              "      <td>NaN</td>\n",
              "      <td>1898.882690</td>\n",
              "      <td>NaN</td>\n",
              "      <td>AW</td>\n",
              "      <td>0</td>\n",
              "      <td>NaN</td>\n",
              "      <td>NaN</td>\n",
              "      <td>0</td>\n",
              "      <td>0</td>\n",
              "      <td>0</td>\n",
              "      <td>0</td>\n",
              "      <td>0</td>\n",
              "      <td>NaN</td>\n",
              "      <td>NaN</td>\n",
              "      <td>1</td>\n",
              "      <td>0</td>\n",
              "      <td>0</td>\n",
              "      <td>0</td>\n",
              "      <td>0</td>\n",
              "      <td>0</td>\n",
              "      <td>0</td>\n",
              "      <td>0</td>\n",
              "      <td>0</td>\n",
              "      <td>459.788</td>\n",
              "      <td>1</td>\n",
              "      <td>NaN</td>\n",
              "    </tr>\n",
              "    <tr>\n",
              "      <th>1129146</th>\n",
              "      <td>2002</td>\n",
              "      <td>USA</td>\n",
              "      <td>ABW</td>\n",
              "      <td>0</td>\n",
              "      <td>0</td>\n",
              "      <td>3859.885497</td>\n",
              "      <td>288.368988</td>\n",
              "      <td>10417600.0</td>\n",
              "      <td>36125.937500</td>\n",
              "      <td>US</td>\n",
              "      <td>NaN</td>\n",
              "      <td>1911.173218</td>\n",
              "      <td>NaN</td>\n",
              "      <td>AW</td>\n",
              "      <td>0</td>\n",
              "      <td>NaN</td>\n",
              "      <td>NaN</td>\n",
              "      <td>0</td>\n",
              "      <td>0</td>\n",
              "      <td>0</td>\n",
              "      <td>0</td>\n",
              "      <td>0</td>\n",
              "      <td>NaN</td>\n",
              "      <td>NaN</td>\n",
              "      <td>1</td>\n",
              "      <td>0</td>\n",
              "      <td>0</td>\n",
              "      <td>0</td>\n",
              "      <td>0</td>\n",
              "      <td>0</td>\n",
              "      <td>0</td>\n",
              "      <td>0</td>\n",
              "      <td>0</td>\n",
              "      <td>511.170</td>\n",
              "      <td>1</td>\n",
              "      <td>NaN</td>\n",
              "    </tr>\n",
              "    <tr>\n",
              "      <th>1129147</th>\n",
              "      <td>2003</td>\n",
              "      <td>USA</td>\n",
              "      <td>ABW</td>\n",
              "      <td>0</td>\n",
              "      <td>0</td>\n",
              "      <td>3859.885497</td>\n",
              "      <td>290.809998</td>\n",
              "      <td>10918500.0</td>\n",
              "      <td>37545.132812</td>\n",
              "      <td>US</td>\n",
              "      <td>0.099</td>\n",
              "      <td>NaN</td>\n",
              "      <td>NaN</td>\n",
              "      <td>AW</td>\n",
              "      <td>0</td>\n",
              "      <td>NaN</td>\n",
              "      <td>NaN</td>\n",
              "      <td>0</td>\n",
              "      <td>0</td>\n",
              "      <td>0</td>\n",
              "      <td>0</td>\n",
              "      <td>0</td>\n",
              "      <td>NaN</td>\n",
              "      <td>NaN</td>\n",
              "      <td>1</td>\n",
              "      <td>0</td>\n",
              "      <td>0</td>\n",
              "      <td>0</td>\n",
              "      <td>0</td>\n",
              "      <td>0</td>\n",
              "      <td>0</td>\n",
              "      <td>0</td>\n",
              "      <td>0</td>\n",
              "      <td>467.758</td>\n",
              "      <td>1</td>\n",
              "      <td>NaN</td>\n",
              "    </tr>\n",
              "    <tr>\n",
              "      <th>1129148</th>\n",
              "      <td>2004</td>\n",
              "      <td>USA</td>\n",
              "      <td>ABW</td>\n",
              "      <td>0</td>\n",
              "      <td>0</td>\n",
              "      <td>3859.885497</td>\n",
              "      <td>293.655396</td>\n",
              "      <td>11679200.0</td>\n",
              "      <td>39771.789062</td>\n",
              "      <td>US</td>\n",
              "      <td>0.099</td>\n",
              "      <td>NaN</td>\n",
              "      <td>NaN</td>\n",
              "      <td>AW</td>\n",
              "      <td>0</td>\n",
              "      <td>NaN</td>\n",
              "      <td>NaN</td>\n",
              "      <td>0</td>\n",
              "      <td>0</td>\n",
              "      <td>0</td>\n",
              "      <td>0</td>\n",
              "      <td>0</td>\n",
              "      <td>NaN</td>\n",
              "      <td>NaN</td>\n",
              "      <td>1</td>\n",
              "      <td>0</td>\n",
              "      <td>0</td>\n",
              "      <td>0</td>\n",
              "      <td>0</td>\n",
              "      <td>0</td>\n",
              "      <td>0</td>\n",
              "      <td>0</td>\n",
              "      <td>0</td>\n",
              "      <td>485.820</td>\n",
              "      <td>1</td>\n",
              "      <td>NaN</td>\n",
              "    </tr>\n",
              "  </tbody>\n",
              "</table>\n",
              "</div>"
            ],
            "text/plain": [
              "         year iso_o iso_d  contig  comlang_off        distw       pop_o  \\\n",
              "1129144  2000   USA   ABW       0            0  3859.885497  282.223999   \n",
              "1129145  2001   USA   ABW       0            0  3859.885497  285.317993   \n",
              "1129146  2002   USA   ABW       0            0  3859.885497  288.368988   \n",
              "1129147  2003   USA   ABW       0            0  3859.885497  290.809998   \n",
              "1129148  2004   USA   ABW       0            0  3859.885497  293.655396   \n",
              "\n",
              "              gdp_o      gdpcap_o iso2_o  pop_d        gdp_d  gdpcap_d iso2_d  \\\n",
              "1129144   9764800.0  34599.468750     US    NaN  1858.659180       NaN     AW   \n",
              "1129145  10075900.0  35314.632812     US    NaN  1898.882690       NaN     AW   \n",
              "1129146  10417600.0  36125.937500     US    NaN  1911.173218       NaN     AW   \n",
              "1129147  10918500.0  37545.132812     US  0.099          NaN       NaN     AW   \n",
              "1129148  11679200.0  39771.789062     US  0.099          NaN       NaN     AW   \n",
              "\n",
              "         heg_d  conflict  indepdate  heg_o  col_to  col_fr  col_hist  col_cur  \\\n",
              "1129144      0       NaN        NaN      0       0       0         0        0   \n",
              "1129145      0       NaN        NaN      0       0       0         0        0   \n",
              "1129146      0       NaN        NaN      0       0       0         0        0   \n",
              "1129147      0       NaN        NaN      0       0       0         0        0   \n",
              "1129148      0       NaN        NaN      0       0       0         0        0   \n",
              "\n",
              "         sever  sib_conflict  gatt_o  gatt_d  rta  comleg  comcur  acp_to_eu  \\\n",
              "1129144    NaN           NaN       1       0    0       0       0          0   \n",
              "1129145    NaN           NaN       1       0    0       0       0          0   \n",
              "1129146    NaN           NaN       1       0    0       0       0          0   \n",
              "1129147    NaN           NaN       1       0    0       0       0          0   \n",
              "1129148    NaN           NaN       1       0    0       0       0          0   \n",
              "\n",
              "         gsp  eu_to_acp  gsp_rec     flow  validmirror family  \n",
              "1129144    0          0        0  408.177            1    NaN  \n",
              "1129145    0          0        0  459.788            1    NaN  \n",
              "1129146    0          0        0  511.170            1    NaN  \n",
              "1129147    0          0        0  467.758            1    NaN  \n",
              "1129148    0          0        0  485.820            1    NaN  "
            ]
          },
          "metadata": {
            "tags": []
          },
          "execution_count": 20
        }
      ]
    },
    {
      "cell_type": "code",
      "metadata": {
        "colab": {
          "base_uri": "https://localhost:8080/"
        },
        "id": "DWOQj6Qy9iWl",
        "outputId": "79234874-c2af-4cec-9f71-27cc952901e7"
      },
      "source": [
        "new_df.shape"
      ],
      "execution_count": null,
      "outputs": [
        {
          "output_type": "execute_result",
          "data": {
            "text/plain": [
              "(1358, 36)"
            ]
          },
          "metadata": {
            "tags": []
          },
          "execution_count": 21
        }
      ]
    },
    {
      "cell_type": "markdown",
      "metadata": {
        "id": "LwHiq88LO7f2"
      },
      "source": [
        "At this point it seems that there is a large data set with NaN values. Try to drop all NaN values from the data set."
      ]
    },
    {
      "cell_type": "code",
      "metadata": {
        "id": "DsYggyrg3bO8"
      },
      "source": [
        "df2=new_df.dropna()"
      ],
      "execution_count": null,
      "outputs": []
    },
    {
      "cell_type": "code",
      "metadata": {
        "colab": {
          "base_uri": "https://localhost:8080/"
        },
        "id": "clEwbdmc38Fm",
        "outputId": "8a0a4844-a613-4cc3-9854-e77c110ae74b"
      },
      "source": [
        "print (\"Total number of rows in dataset = {}\".format(df2.shape[0]))\n",
        "print (\"Total number of columns in dataset = {}\".format(df2.shape[1]))"
      ],
      "execution_count": null,
      "outputs": [
        {
          "output_type": "stream",
          "text": [
            "Total number of rows in dataset = 7\n",
            "Total number of columns in dataset = 36\n"
          ],
          "name": "stdout"
        }
      ]
    },
    {
      "cell_type": "markdown",
      "metadata": {
        "id": "Gv_UKH14PUfj"
      },
      "source": [
        "There is hugue reduction in data set volume, for that reason it will not be reasonable to drop the NaN values. "
      ]
    },
    {
      "cell_type": "code",
      "metadata": {
        "colab": {
          "base_uri": "https://localhost:8080/"
        },
        "id": "nRnB3S2fveDP",
        "outputId": "2ee6ca5b-196d-4c8c-b07c-7c58abb412e0"
      },
      "source": [
        "new_df.dtypes"
      ],
      "execution_count": null,
      "outputs": [
        {
          "output_type": "execute_result",
          "data": {
            "text/plain": [
              "year              int64\n",
              "iso_o            object\n",
              "iso_d            object\n",
              "contig            int64\n",
              "comlang_off       int64\n",
              "distw           float64\n",
              "pop_o           float64\n",
              "gdp_o           float64\n",
              "gdpcap_o        float64\n",
              "iso2_o           object\n",
              "pop_d           float64\n",
              "gdp_d           float64\n",
              "gdpcap_d        float64\n",
              "iso2_d           object\n",
              "heg_d             int64\n",
              "conflict        float64\n",
              "indepdate       float64\n",
              "heg_o             int64\n",
              "col_to            int64\n",
              "col_fr            int64\n",
              "col_hist          int64\n",
              "col_cur           int64\n",
              "sever           float64\n",
              "sib_conflict    float64\n",
              "gatt_o            int64\n",
              "gatt_d            int64\n",
              "rta               int64\n",
              "comleg            int64\n",
              "comcur            int64\n",
              "acp_to_eu         int64\n",
              "gsp               int64\n",
              "eu_to_acp         int64\n",
              "gsp_rec           int64\n",
              "flow            float64\n",
              "validmirror       int64\n",
              "family           object\n",
              "dtype: object"
            ]
          },
          "metadata": {
            "tags": []
          },
          "execution_count": 24
        }
      ]
    },
    {
      "cell_type": "markdown",
      "metadata": {
        "id": "eYO3wZRWWNUP"
      },
      "source": [
        "## 2.3 Checking for Missing Values"
      ]
    },
    {
      "cell_type": "code",
      "metadata": {
        "colab": {
          "base_uri": "https://localhost:8080/",
          "height": 374
        },
        "id": "_KhG7kSljQEt",
        "outputId": "8c26c2fc-0fb3-44de-b2d2-2d1d91d17446"
      },
      "source": [
        "# Visualizing missing counts\n",
        "missing = new_df.isnull().sum()\n",
        "missing = missing[missing > 0]\n",
        "missing.sort_values(inplace=True)\n",
        "plt.subplots(figsize=(15,5))\n",
        "missing.plot.bar()\n",
        "plt.show()"
      ],
      "execution_count": null,
      "outputs": [
        {
          "output_type": "display_data",
          "data": {
            "image/png": "[encoded data removed]",
            "text/plain": [
              "<Figure size 1080x360 with 1 Axes>"
            ]
          },
          "metadata": {
            "tags": [],
            "needs_background": "light"
          }
        }
      ]
    },
    {
      "cell_type": "code",
      "metadata": {
        "colab": {
          "base_uri": "https://localhost:8080/",
          "height": 652
        },
        "id": "X5mWXpzReW50",
        "outputId": "1c261edc-a244-4919-9fb6-f6263e683151"
      },
      "source": [
        "msno.bar(new_df)"
      ],
      "execution_count": null,
      "outputs": [
        {
          "output_type": "execute_result",
          "data": {
            "text/plain": [
              "<matplotlib.axes._subplots.AxesSubplot at 0x7f492bb59f10>"
            ]
          },
          "metadata": {
            "tags": []
          },
          "execution_count": 26
        },
        {
          "output_type": "display_data",
          "data": {
            "image/png": "[encoded data removed]",
            "text/plain": [
              "<Figure size 1728x720 with 3 Axes>"
            ]
          },
          "metadata": {
            "tags": [],
            "needs_background": "light"
          }
        }
      ]
    },
    {
      "cell_type": "markdown",
      "metadata": {
        "id": "WAnC5K9fJGQq"
      },
      "source": [
        "## White spaces shows the missing value in the data frame."
      ]
    },
    {
      "cell_type": "markdown",
      "metadata": {
        "id": "X2yyvdmGQXqT"
      },
      "source": [
        "## Dropping the features with more than 50% missing values. \n",
        "\n"
      ]
    },
    {
      "cell_type": "code",
      "metadata": {
        "colab": {
          "base_uri": "https://localhost:8080/",
          "height": 216
        },
        "id": "42VpEQyBxWhM",
        "outputId": "1ad6832d-8501-466a-ce60-3e832b70919b"
      },
      "source": [
        "# Drop all columns with more than 50% of it's values missing\n",
        "df_dc = new_df[new_df.columns[new_df.isnull().mean() < 0.5]]\n",
        "df_dc.head()"
      ],
      "execution_count": null,
      "outputs": [
        {
          "output_type": "execute_result",
          "data": {
            "text/html": [
              "<div>\n",
              "<style scoped>\n",
              "    .dataframe tbody tr th:only-of-type {\n",
              "        vertical-align: middle;\n",
              "    }\n",
              "\n",
              "    .dataframe tbody tr th {\n",
              "        vertical-align: top;\n",
              "    }\n",
              "\n",
              "    .dataframe thead th {\n",
              "        text-align: right;\n",
              "    }\n",
              "</style>\n",
              "<table border=\"1\" class=\"dataframe\">\n",
              "  <thead>\n",
              "    <tr style=\"text-align: right;\">\n",
              "      <th></th>\n",
              "      <th>year</th>\n",
              "      <th>iso_o</th>\n",
              "      <th>iso_d</th>\n",
              "      <th>contig</th>\n",
              "      <th>comlang_off</th>\n",
              "      <th>distw</th>\n",
              "      <th>pop_o</th>\n",
              "      <th>gdp_o</th>\n",
              "      <th>gdpcap_o</th>\n",
              "      <th>iso2_o</th>\n",
              "      <th>pop_d</th>\n",
              "      <th>gdp_d</th>\n",
              "      <th>gdpcap_d</th>\n",
              "      <th>iso2_d</th>\n",
              "      <th>heg_d</th>\n",
              "      <th>heg_o</th>\n",
              "      <th>col_to</th>\n",
              "      <th>col_fr</th>\n",
              "      <th>col_hist</th>\n",
              "      <th>col_cur</th>\n",
              "      <th>sever</th>\n",
              "      <th>sib_conflict</th>\n",
              "      <th>gatt_o</th>\n",
              "      <th>gatt_d</th>\n",
              "      <th>rta</th>\n",
              "      <th>comleg</th>\n",
              "      <th>comcur</th>\n",
              "      <th>acp_to_eu</th>\n",
              "      <th>gsp</th>\n",
              "      <th>eu_to_acp</th>\n",
              "      <th>gsp_rec</th>\n",
              "      <th>flow</th>\n",
              "      <th>validmirror</th>\n",
              "      <th>family</th>\n",
              "    </tr>\n",
              "  </thead>\n",
              "  <tbody>\n",
              "    <tr>\n",
              "      <th>1129144</th>\n",
              "      <td>2000</td>\n",
              "      <td>USA</td>\n",
              "      <td>ABW</td>\n",
              "      <td>0</td>\n",
              "      <td>0</td>\n",
              "      <td>3859.885497</td>\n",
              "      <td>282.223999</td>\n",
              "      <td>9764800.0</td>\n",
              "      <td>34599.468750</td>\n",
              "      <td>US</td>\n",
              "      <td>NaN</td>\n",
              "      <td>1858.659180</td>\n",
              "      <td>NaN</td>\n",
              "      <td>AW</td>\n",
              "      <td>0</td>\n",
              "      <td>0</td>\n",
              "      <td>0</td>\n",
              "      <td>0</td>\n",
              "      <td>0</td>\n",
              "      <td>0</td>\n",
              "      <td>NaN</td>\n",
              "      <td>NaN</td>\n",
              "      <td>1</td>\n",
              "      <td>0</td>\n",
              "      <td>0</td>\n",
              "      <td>0</td>\n",
              "      <td>0</td>\n",
              "      <td>0</td>\n",
              "      <td>0</td>\n",
              "      <td>0</td>\n",
              "      <td>0</td>\n",
              "      <td>408.177</td>\n",
              "      <td>1</td>\n",
              "      <td>NaN</td>\n",
              "    </tr>\n",
              "    <tr>\n",
              "      <th>1129145</th>\n",
              "      <td>2001</td>\n",
              "      <td>USA</td>\n",
              "      <td>ABW</td>\n",
              "      <td>0</td>\n",
              "      <td>0</td>\n",
              "      <td>3859.885497</td>\n",
              "      <td>285.317993</td>\n",
              "      <td>10075900.0</td>\n",
              "      <td>35314.632812</td>\n",
              "      <td>US</td>\n",
              "      <td>NaN</td>\n",
              "      <td>1898.882690</td>\n",
              "      <td>NaN</td>\n",
              "      <td>AW</td>\n",
              "      <td>0</td>\n",
              "      <td>0</td>\n",
              "      <td>0</td>\n",
              "      <td>0</td>\n",
              "      <td>0</td>\n",
              "      <td>0</td>\n",
              "      <td>NaN</td>\n",
              "      <td>NaN</td>\n",
              "      <td>1</td>\n",
              "      <td>0</td>\n",
              "      <td>0</td>\n",
              "      <td>0</td>\n",
              "      <td>0</td>\n",
              "      <td>0</td>\n",
              "      <td>0</td>\n",
              "      <td>0</td>\n",
              "      <td>0</td>\n",
              "      <td>459.788</td>\n",
              "      <td>1</td>\n",
              "      <td>NaN</td>\n",
              "    </tr>\n",
              "    <tr>\n",
              "      <th>1129146</th>\n",
              "      <td>2002</td>\n",
              "      <td>USA</td>\n",
              "      <td>ABW</td>\n",
              "      <td>0</td>\n",
              "      <td>0</td>\n",
              "      <td>3859.885497</td>\n",
              "      <td>288.368988</td>\n",
              "      <td>10417600.0</td>\n",
              "      <td>36125.937500</td>\n",
              "      <td>US</td>\n",
              "      <td>NaN</td>\n",
              "      <td>1911.173218</td>\n",
              "      <td>NaN</td>\n",
              "      <td>AW</td>\n",
              "      <td>0</td>\n",
              "      <td>0</td>\n",
              "      <td>0</td>\n",
              "      <td>0</td>\n",
              "      <td>0</td>\n",
              "      <td>0</td>\n",
              "      <td>NaN</td>\n",
              "      <td>NaN</td>\n",
              "      <td>1</td>\n",
              "      <td>0</td>\n",
              "      <td>0</td>\n",
              "      <td>0</td>\n",
              "      <td>0</td>\n",
              "      <td>0</td>\n",
              "      <td>0</td>\n",
              "      <td>0</td>\n",
              "      <td>0</td>\n",
              "      <td>511.170</td>\n",
              "      <td>1</td>\n",
              "      <td>NaN</td>\n",
              "    </tr>\n",
              "    <tr>\n",
              "      <th>1129147</th>\n",
              "      <td>2003</td>\n",
              "      <td>USA</td>\n",
              "      <td>ABW</td>\n",
              "      <td>0</td>\n",
              "      <td>0</td>\n",
              "      <td>3859.885497</td>\n",
              "      <td>290.809998</td>\n",
              "      <td>10918500.0</td>\n",
              "      <td>37545.132812</td>\n",
              "      <td>US</td>\n",
              "      <td>0.099</td>\n",
              "      <td>NaN</td>\n",
              "      <td>NaN</td>\n",
              "      <td>AW</td>\n",
              "      <td>0</td>\n",
              "      <td>0</td>\n",
              "      <td>0</td>\n",
              "      <td>0</td>\n",
              "      <td>0</td>\n",
              "      <td>0</td>\n",
              "      <td>NaN</td>\n",
              "      <td>NaN</td>\n",
              "      <td>1</td>\n",
              "      <td>0</td>\n",
              "      <td>0</td>\n",
              "      <td>0</td>\n",
              "      <td>0</td>\n",
              "      <td>0</td>\n",
              "      <td>0</td>\n",
              "      <td>0</td>\n",
              "      <td>0</td>\n",
              "      <td>467.758</td>\n",
              "      <td>1</td>\n",
              "      <td>NaN</td>\n",
              "    </tr>\n",
              "    <tr>\n",
              "      <th>1129148</th>\n",
              "      <td>2004</td>\n",
              "      <td>USA</td>\n",
              "      <td>ABW</td>\n",
              "      <td>0</td>\n",
              "      <td>0</td>\n",
              "      <td>3859.885497</td>\n",
              "      <td>293.655396</td>\n",
              "      <td>11679200.0</td>\n",
              "      <td>39771.789062</td>\n",
              "      <td>US</td>\n",
              "      <td>0.099</td>\n",
              "      <td>NaN</td>\n",
              "      <td>NaN</td>\n",
              "      <td>AW</td>\n",
              "      <td>0</td>\n",
              "      <td>0</td>\n",
              "      <td>0</td>\n",
              "      <td>0</td>\n",
              "      <td>0</td>\n",
              "      <td>0</td>\n",
              "      <td>NaN</td>\n",
              "      <td>NaN</td>\n",
              "      <td>1</td>\n",
              "      <td>0</td>\n",
              "      <td>0</td>\n",
              "      <td>0</td>\n",
              "      <td>0</td>\n",
              "      <td>0</td>\n",
              "      <td>0</td>\n",
              "      <td>0</td>\n",
              "      <td>0</td>\n",
              "      <td>485.820</td>\n",
              "      <td>1</td>\n",
              "      <td>NaN</td>\n",
              "    </tr>\n",
              "  </tbody>\n",
              "</table>\n",
              "</div>"
            ],
            "text/plain": [
              "         year iso_o iso_d  contig  comlang_off        distw       pop_o  \\\n",
              "1129144  2000   USA   ABW       0            0  3859.885497  282.223999   \n",
              "1129145  2001   USA   ABW       0            0  3859.885497  285.317993   \n",
              "1129146  2002   USA   ABW       0            0  3859.885497  288.368988   \n",
              "1129147  2003   USA   ABW       0            0  3859.885497  290.809998   \n",
              "1129148  2004   USA   ABW       0            0  3859.885497  293.655396   \n",
              "\n",
              "              gdp_o      gdpcap_o iso2_o  pop_d        gdp_d  gdpcap_d iso2_d  \\\n",
              "1129144   9764800.0  34599.468750     US    NaN  1858.659180       NaN     AW   \n",
              "1129145  10075900.0  35314.632812     US    NaN  1898.882690       NaN     AW   \n",
              "1129146  10417600.0  36125.937500     US    NaN  1911.173218       NaN     AW   \n",
              "1129147  10918500.0  37545.132812     US  0.099          NaN       NaN     AW   \n",
              "1129148  11679200.0  39771.789062     US  0.099          NaN       NaN     AW   \n",
              "\n",
              "         heg_d  heg_o  col_to  col_fr  col_hist  col_cur  sever  sib_conflict  \\\n",
              "1129144      0      0       0       0         0        0    NaN           NaN   \n",
              "1129145      0      0       0       0         0        0    NaN           NaN   \n",
              "1129146      0      0       0       0         0        0    NaN           NaN   \n",
              "1129147      0      0       0       0         0        0    NaN           NaN   \n",
              "1129148      0      0       0       0         0        0    NaN           NaN   \n",
              "\n",
              "         gatt_o  gatt_d  rta  comleg  comcur  acp_to_eu  gsp  eu_to_acp  \\\n",
              "1129144       1       0    0       0       0          0    0          0   \n",
              "1129145       1       0    0       0       0          0    0          0   \n",
              "1129146       1       0    0       0       0          0    0          0   \n",
              "1129147       1       0    0       0       0          0    0          0   \n",
              "1129148       1       0    0       0       0          0    0          0   \n",
              "\n",
              "         gsp_rec     flow  validmirror family  \n",
              "1129144        0  408.177            1    NaN  \n",
              "1129145        0  459.788            1    NaN  \n",
              "1129146        0  511.170            1    NaN  \n",
              "1129147        0  467.758            1    NaN  \n",
              "1129148        0  485.820            1    NaN  "
            ]
          },
          "metadata": {
            "tags": []
          },
          "execution_count": 27
        }
      ]
    },
    {
      "cell_type": "markdown",
      "metadata": {
        "id": "qSlL6IDb0hBV"
      },
      "source": [
        ""
      ]
    },
    {
      "cell_type": "code",
      "metadata": {
        "id": "Tzgi1pbN1U7k"
      },
      "source": [
        "new_df2=new_df.copy()"
      ],
      "execution_count": null,
      "outputs": []
    },
    {
      "cell_type": "code",
      "metadata": {
        "colab": {
          "base_uri": "https://localhost:8080/"
        },
        "id": "Qb0fVCXc1s4W",
        "outputId": "3ff2ce66-9263-49c7-95df-e5375a8faa88"
      },
      "source": [
        "new_df2.info()"
      ],
      "execution_count": null,
      "outputs": [
        {
          "output_type": "stream",
          "text": [
            "<class 'pandas.core.frame.DataFrame'>\n",
            "Int64Index: 1358 entries, 1129144 to 1138188\n",
            "Data columns (total 36 columns):\n",
            " #   Column        Non-Null Count  Dtype  \n",
            "---  ------        --------------  -----  \n",
            " 0   year          1358 non-null   int64  \n",
            " 1   iso_o         1358 non-null   object \n",
            " 2   iso_d         1358 non-null   object \n",
            " 3   contig        1358 non-null   int64  \n",
            " 4   comlang_off   1358 non-null   int64  \n",
            " 5   distw         1358 non-null   float64\n",
            " 6   pop_o         1358 non-null   float64\n",
            " 7   gdp_o         1358 non-null   float64\n",
            " 8   gdpcap_o      1358 non-null   float64\n",
            " 9   iso2_o        1358 non-null   object \n",
            " 10  pop_d         1310 non-null   float64\n",
            " 11  gdp_d         1229 non-null   float64\n",
            " 12  gdpcap_d      1223 non-null   float64\n",
            " 13  iso2_d        1351 non-null   object \n",
            " 14  heg_d         1358 non-null   int64  \n",
            " 15  conflict      28 non-null     float64\n",
            " 16  indepdate     28 non-null     float64\n",
            " 17  heg_o         1358 non-null   int64  \n",
            " 18  col_to        1358 non-null   int64  \n",
            " 19  col_fr        1358 non-null   int64  \n",
            " 20  col_hist      1358 non-null   int64  \n",
            " 21  col_cur       1358 non-null   int64  \n",
            " 22  sever         819 non-null    float64\n",
            " 23  sib_conflict  819 non-null    float64\n",
            " 24  gatt_o        1358 non-null   int64  \n",
            " 25  gatt_d        1358 non-null   int64  \n",
            " 26  rta           1358 non-null   int64  \n",
            " 27  comleg        1358 non-null   int64  \n",
            " 28  comcur        1358 non-null   int64  \n",
            " 29  acp_to_eu     1358 non-null   int64  \n",
            " 30  gsp           1358 non-null   int64  \n",
            " 31  eu_to_acp     1358 non-null   int64  \n",
            " 32  gsp_rec       1358 non-null   int64  \n",
            " 33  flow          1358 non-null   float64\n",
            " 34  validmirror   1358 non-null   int64  \n",
            " 35  family        840 non-null    object \n",
            "dtypes: float64(12), int64(19), object(5)\n",
            "memory usage: 392.5+ KB\n"
          ],
          "name": "stdout"
        }
      ]
    },
    {
      "cell_type": "code",
      "metadata": {
        "id": "ggN55Py3gk7Z"
      },
      "source": [
        "new_df2d=new_df2.drop(columns=['iso_o'])"
      ],
      "execution_count": null,
      "outputs": []
    },
    {
      "cell_type": "code",
      "metadata": {
        "colab": {
          "base_uri": "https://localhost:8080/",
          "height": 216
        },
        "id": "7cJ80wVRhj5A",
        "outputId": "34a9411d-e683-4abc-ef7a-5d4b6656405f"
      },
      "source": [
        "new_df2d.head()"
      ],
      "execution_count": null,
      "outputs": [
        {
          "output_type": "execute_result",
          "data": {
            "text/html": [
              "<div>\n",
              "<style scoped>\n",
              "    .dataframe tbody tr th:only-of-type {\n",
              "        vertical-align: middle;\n",
              "    }\n",
              "\n",
              "    .dataframe tbody tr th {\n",
              "        vertical-align: top;\n",
              "    }\n",
              "\n",
              "    .dataframe thead th {\n",
              "        text-align: right;\n",
              "    }\n",
              "</style>\n",
              "<table border=\"1\" class=\"dataframe\">\n",
              "  <thead>\n",
              "    <tr style=\"text-align: right;\">\n",
              "      <th></th>\n",
              "      <th>year</th>\n",
              "      <th>iso_d</th>\n",
              "      <th>contig</th>\n",
              "      <th>comlang_off</th>\n",
              "      <th>distw</th>\n",
              "      <th>pop_o</th>\n",
              "      <th>gdp_o</th>\n",
              "      <th>gdpcap_o</th>\n",
              "      <th>iso2_o</th>\n",
              "      <th>pop_d</th>\n",
              "      <th>gdp_d</th>\n",
              "      <th>gdpcap_d</th>\n",
              "      <th>iso2_d</th>\n",
              "      <th>heg_d</th>\n",
              "      <th>conflict</th>\n",
              "      <th>indepdate</th>\n",
              "      <th>heg_o</th>\n",
              "      <th>col_to</th>\n",
              "      <th>col_fr</th>\n",
              "      <th>col_hist</th>\n",
              "      <th>col_cur</th>\n",
              "      <th>sever</th>\n",
              "      <th>sib_conflict</th>\n",
              "      <th>gatt_o</th>\n",
              "      <th>gatt_d</th>\n",
              "      <th>rta</th>\n",
              "      <th>comleg</th>\n",
              "      <th>comcur</th>\n",
              "      <th>acp_to_eu</th>\n",
              "      <th>gsp</th>\n",
              "      <th>eu_to_acp</th>\n",
              "      <th>gsp_rec</th>\n",
              "      <th>flow</th>\n",
              "      <th>validmirror</th>\n",
              "      <th>family</th>\n",
              "    </tr>\n",
              "  </thead>\n",
              "  <tbody>\n",
              "    <tr>\n",
              "      <th>1129144</th>\n",
              "      <td>2000</td>\n",
              "      <td>ABW</td>\n",
              "      <td>0</td>\n",
              "      <td>0</td>\n",
              "      <td>3859.885497</td>\n",
              "      <td>282.223999</td>\n",
              "      <td>9764800.0</td>\n",
              "      <td>34599.468750</td>\n",
              "      <td>US</td>\n",
              "      <td>NaN</td>\n",
              "      <td>1858.659180</td>\n",
              "      <td>NaN</td>\n",
              "      <td>AW</td>\n",
              "      <td>0</td>\n",
              "      <td>NaN</td>\n",
              "      <td>NaN</td>\n",
              "      <td>0</td>\n",
              "      <td>0</td>\n",
              "      <td>0</td>\n",
              "      <td>0</td>\n",
              "      <td>0</td>\n",
              "      <td>NaN</td>\n",
              "      <td>NaN</td>\n",
              "      <td>1</td>\n",
              "      <td>0</td>\n",
              "      <td>0</td>\n",
              "      <td>0</td>\n",
              "      <td>0</td>\n",
              "      <td>0</td>\n",
              "      <td>0</td>\n",
              "      <td>0</td>\n",
              "      <td>0</td>\n",
              "      <td>408.177</td>\n",
              "      <td>1</td>\n",
              "      <td>NaN</td>\n",
              "    </tr>\n",
              "    <tr>\n",
              "      <th>1129145</th>\n",
              "      <td>2001</td>\n",
              "      <td>ABW</td>\n",
              "      <td>0</td>\n",
              "      <td>0</td>\n",
              "      <td>3859.885497</td>\n",
              "      <td>285.317993</td>\n",
              "      <td>10075900.0</td>\n",
              "      <td>35314.632812</td>\n",
              "      <td>US</td>\n",
              "      <td>NaN</td>\n",
              "      <td>1898.882690</td>\n",
              "      <td>NaN</td>\n",
              "      <td>AW</td>\n",
              "      <td>0</td>\n",
              "      <td>NaN</td>\n",
              "      <td>NaN</td>\n",
              "      <td>0</td>\n",
              "      <td>0</td>\n",
              "      <td>0</td>\n",
              "      <td>0</td>\n",
              "      <td>0</td>\n",
              "      <td>NaN</td>\n",
              "      <td>NaN</td>\n",
              "      <td>1</td>\n",
              "      <td>0</td>\n",
              "      <td>0</td>\n",
              "      <td>0</td>\n",
              "      <td>0</td>\n",
              "      <td>0</td>\n",
              "      <td>0</td>\n",
              "      <td>0</td>\n",
              "      <td>0</td>\n",
              "      <td>459.788</td>\n",
              "      <td>1</td>\n",
              "      <td>NaN</td>\n",
              "    </tr>\n",
              "    <tr>\n",
              "      <th>1129146</th>\n",
              "      <td>2002</td>\n",
              "      <td>ABW</td>\n",
              "      <td>0</td>\n",
              "      <td>0</td>\n",
              "      <td>3859.885497</td>\n",
              "      <td>288.368988</td>\n",
              "      <td>10417600.0</td>\n",
              "      <td>36125.937500</td>\n",
              "      <td>US</td>\n",
              "      <td>NaN</td>\n",
              "      <td>1911.173218</td>\n",
              "      <td>NaN</td>\n",
              "      <td>AW</td>\n",
              "      <td>0</td>\n",
              "      <td>NaN</td>\n",
              "      <td>NaN</td>\n",
              "      <td>0</td>\n",
              "      <td>0</td>\n",
              "      <td>0</td>\n",
              "      <td>0</td>\n",
              "      <td>0</td>\n",
              "      <td>NaN</td>\n",
              "      <td>NaN</td>\n",
              "      <td>1</td>\n",
              "      <td>0</td>\n",
              "      <td>0</td>\n",
              "      <td>0</td>\n",
              "      <td>0</td>\n",
              "      <td>0</td>\n",
              "      <td>0</td>\n",
              "      <td>0</td>\n",
              "      <td>0</td>\n",
              "      <td>511.170</td>\n",
              "      <td>1</td>\n",
              "      <td>NaN</td>\n",
              "    </tr>\n",
              "    <tr>\n",
              "      <th>1129147</th>\n",
              "      <td>2003</td>\n",
              "      <td>ABW</td>\n",
              "      <td>0</td>\n",
              "      <td>0</td>\n",
              "      <td>3859.885497</td>\n",
              "      <td>290.809998</td>\n",
              "      <td>10918500.0</td>\n",
              "      <td>37545.132812</td>\n",
              "      <td>US</td>\n",
              "      <td>0.099</td>\n",
              "      <td>NaN</td>\n",
              "      <td>NaN</td>\n",
              "      <td>AW</td>\n",
              "      <td>0</td>\n",
              "      <td>NaN</td>\n",
              "      <td>NaN</td>\n",
              "      <td>0</td>\n",
              "      <td>0</td>\n",
              "      <td>0</td>\n",
              "      <td>0</td>\n",
              "      <td>0</td>\n",
              "      <td>NaN</td>\n",
              "      <td>NaN</td>\n",
              "      <td>1</td>\n",
              "      <td>0</td>\n",
              "      <td>0</td>\n",
              "      <td>0</td>\n",
              "      <td>0</td>\n",
              "      <td>0</td>\n",
              "      <td>0</td>\n",
              "      <td>0</td>\n",
              "      <td>0</td>\n",
              "      <td>467.758</td>\n",
              "      <td>1</td>\n",
              "      <td>NaN</td>\n",
              "    </tr>\n",
              "    <tr>\n",
              "      <th>1129148</th>\n",
              "      <td>2004</td>\n",
              "      <td>ABW</td>\n",
              "      <td>0</td>\n",
              "      <td>0</td>\n",
              "      <td>3859.885497</td>\n",
              "      <td>293.655396</td>\n",
              "      <td>11679200.0</td>\n",
              "      <td>39771.789062</td>\n",
              "      <td>US</td>\n",
              "      <td>0.099</td>\n",
              "      <td>NaN</td>\n",
              "      <td>NaN</td>\n",
              "      <td>AW</td>\n",
              "      <td>0</td>\n",
              "      <td>NaN</td>\n",
              "      <td>NaN</td>\n",
              "      <td>0</td>\n",
              "      <td>0</td>\n",
              "      <td>0</td>\n",
              "      <td>0</td>\n",
              "      <td>0</td>\n",
              "      <td>NaN</td>\n",
              "      <td>NaN</td>\n",
              "      <td>1</td>\n",
              "      <td>0</td>\n",
              "      <td>0</td>\n",
              "      <td>0</td>\n",
              "      <td>0</td>\n",
              "      <td>0</td>\n",
              "      <td>0</td>\n",
              "      <td>0</td>\n",
              "      <td>0</td>\n",
              "      <td>485.820</td>\n",
              "      <td>1</td>\n",
              "      <td>NaN</td>\n",
              "    </tr>\n",
              "  </tbody>\n",
              "</table>\n",
              "</div>"
            ],
            "text/plain": [
              "         year iso_d  contig  comlang_off        distw       pop_o       gdp_o  \\\n",
              "1129144  2000   ABW       0            0  3859.885497  282.223999   9764800.0   \n",
              "1129145  2001   ABW       0            0  3859.885497  285.317993  10075900.0   \n",
              "1129146  2002   ABW       0            0  3859.885497  288.368988  10417600.0   \n",
              "1129147  2003   ABW       0            0  3859.885497  290.809998  10918500.0   \n",
              "1129148  2004   ABW       0            0  3859.885497  293.655396  11679200.0   \n",
              "\n",
              "             gdpcap_o iso2_o  pop_d        gdp_d  gdpcap_d iso2_d  heg_d  \\\n",
              "1129144  34599.468750     US    NaN  1858.659180       NaN     AW      0   \n",
              "1129145  35314.632812     US    NaN  1898.882690       NaN     AW      0   \n",
              "1129146  36125.937500     US    NaN  1911.173218       NaN     AW      0   \n",
              "1129147  37545.132812     US  0.099          NaN       NaN     AW      0   \n",
              "1129148  39771.789062     US  0.099          NaN       NaN     AW      0   \n",
              "\n",
              "         conflict  indepdate  heg_o  col_to  col_fr  col_hist  col_cur  sever  \\\n",
              "1129144       NaN        NaN      0       0       0         0        0    NaN   \n",
              "1129145       NaN        NaN      0       0       0         0        0    NaN   \n",
              "1129146       NaN        NaN      0       0       0         0        0    NaN   \n",
              "1129147       NaN        NaN      0       0       0         0        0    NaN   \n",
              "1129148       NaN        NaN      0       0       0         0        0    NaN   \n",
              "\n",
              "         sib_conflict  gatt_o  gatt_d  rta  comleg  comcur  acp_to_eu  gsp  \\\n",
              "1129144           NaN       1       0    0       0       0          0    0   \n",
              "1129145           NaN       1       0    0       0       0          0    0   \n",
              "1129146           NaN       1       0    0       0       0          0    0   \n",
              "1129147           NaN       1       0    0       0       0          0    0   \n",
              "1129148           NaN       1       0    0       0       0          0    0   \n",
              "\n",
              "         eu_to_acp  gsp_rec     flow  validmirror family  \n",
              "1129144          0        0  408.177            1    NaN  \n",
              "1129145          0        0  459.788            1    NaN  \n",
              "1129146          0        0  511.170            1    NaN  \n",
              "1129147          0        0  467.758            1    NaN  \n",
              "1129148          0        0  485.820            1    NaN  "
            ]
          },
          "metadata": {
            "tags": []
          },
          "execution_count": 31
        }
      ]
    },
    {
      "cell_type": "markdown",
      "metadata": {
        "id": "QhC9OZPqP7MC"
      },
      "source": [
        "## Check to see how much data is missing in each column"
      ]
    },
    {
      "cell_type": "code",
      "metadata": {
        "colab": {
          "base_uri": "https://localhost:8080/"
        },
        "id": "sJmfuCzYxWhL",
        "outputId": "b1c3f46a-cf6c-4958-b517-09e0f9d2a335"
      },
      "source": [
        "# Find how much data is missing in each column\n",
        "# Function to look at missing rows per column\n",
        "def missing(dataset):\n",
        "    columns = dataset.columns\n",
        "    print('MISSING ROWS per COLUMN')\n",
        "    for column in columns:\n",
        "        percentage = (dataset[column].isnull().sum() / len(df)) * 100\n",
        "        print('{}: {}, {:0.2f}%'.format(column, dataset[column].isnull().sum(), percentage))\n",
        "        \n",
        "        \n",
        "# Missing rows per column       \n",
        "missing(new_df)"
      ],
      "execution_count": null,
      "outputs": [
        {
          "output_type": "stream",
          "text": [
            "MISSING ROWS per COLUMN\n",
            "year: 0, 0.00%\n",
            "iso_o: 0, 0.00%\n",
            "iso_d: 0, 0.00%\n",
            "contig: 0, 0.00%\n",
            "comlang_off: 0, 0.00%\n",
            "distw: 0, 0.00%\n",
            "pop_o: 0, 0.00%\n",
            "gdp_o: 0, 0.00%\n",
            "gdpcap_o: 0, 0.00%\n",
            "iso2_o: 0, 0.00%\n",
            "pop_d: 48, 0.00%\n",
            "gdp_d: 129, 0.01%\n",
            "gdpcap_d: 135, 0.01%\n",
            "iso2_d: 7, 0.00%\n",
            "heg_d: 0, 0.00%\n",
            "conflict: 1330, 0.11%\n",
            "indepdate: 1330, 0.11%\n",
            "heg_o: 0, 0.00%\n",
            "col_to: 0, 0.00%\n",
            "col_fr: 0, 0.00%\n",
            "col_hist: 0, 0.00%\n",
            "col_cur: 0, 0.00%\n",
            "sever: 539, 0.04%\n",
            "sib_conflict: 539, 0.04%\n",
            "gatt_o: 0, 0.00%\n",
            "gatt_d: 0, 0.00%\n",
            "rta: 0, 0.00%\n",
            "comleg: 0, 0.00%\n",
            "comcur: 0, 0.00%\n",
            "acp_to_eu: 0, 0.00%\n",
            "gsp: 0, 0.00%\n",
            "eu_to_acp: 0, 0.00%\n",
            "gsp_rec: 0, 0.00%\n",
            "flow: 0, 0.00%\n",
            "validmirror: 0, 0.00%\n",
            "family: 518, 0.04%\n"
          ],
          "name": "stdout"
        }
      ]
    },
    {
      "cell_type": "code",
      "metadata": {
        "colab": {
          "base_uri": "https://localhost:8080/"
        },
        "id": "aacJphHNQ2zs",
        "outputId": "e474b38c-c024-4373-90ac-932369bcf927"
      },
      "source": [
        "#descriptive statistics summary\n",
        "new_df['gdp_o'].describe()"
      ],
      "execution_count": null,
      "outputs": [
        {
          "output_type": "execute_result",
          "data": {
            "text/plain": [
              "count    1.358000e+03\n",
              "mean     1.121118e+07\n",
              "std      1.179507e+06\n",
              "min      9.764800e+06\n",
              "25%      1.007590e+07\n",
              "50%      1.091850e+07\n",
              "75%      1.241650e+07\n",
              "max      1.320182e+07\n",
              "Name: gdp_o, dtype: float64"
            ]
          },
          "metadata": {
            "tags": []
          },
          "execution_count": 33
        }
      ]
    },
    {
      "cell_type": "markdown",
      "metadata": {
        "id": "Pjhzjc4sWxDV"
      },
      "source": [
        "## 3 - Data Visualization\n",
        "\n",
        "In this section:\n",
        "\n",
        "3.1 Viewing Columns\n",
        "\n",
        "\n",
        "3.2 Distribution of Data\n",
        "\n",
        "\n",
        "3.3 Univariate Analysis of Data\n",
        "\n",
        "\n",
        "3.4 Bivariate Analysis of Data"
      ]
    },
    {
      "cell_type": "code",
      "metadata": {
        "colab": {
          "base_uri": "https://localhost:8080/",
          "height": 296
        },
        "id": "XsRk_ji8OSZ0",
        "outputId": "8a916720-4de5-4fe6-9255-aa7c07f4b00b"
      },
      "source": [
        "#histogram\n",
        "sns.distplot(new_df['gdp_o']);"
      ],
      "execution_count": null,
      "outputs": [
        {
          "output_type": "display_data",
          "data": {
            "image/png": "[encoded data removed]",
            "text/plain": [
              "<Figure size 432x288 with 1 Axes>"
            ]
          },
          "metadata": {
            "tags": [],
            "needs_background": "light"
          }
        }
      ]
    },
    {
      "cell_type": "code",
      "metadata": {
        "colab": {
          "base_uri": "https://localhost:8080/"
        },
        "id": "NAmOYNXTOjis",
        "outputId": "d77837ce-a046-4bfb-9ef9-244adc9f0576"
      },
      "source": [
        "#skewness and kurtosis\n",
        "print(\"Skewness: %f\" % new_df['gdp_o'].skew())\n",
        "print(\"Kurtosis: %f\" % new_df['gdp_o'].kurt())"
      ],
      "execution_count": null,
      "outputs": [
        {
          "output_type": "stream",
          "text": [
            "Skewness: 0.412568\n",
            "Kurtosis: -1.203623\n"
          ],
          "name": "stdout"
        }
      ]
    },
    {
      "cell_type": "markdown",
      "metadata": {
        "id": "4vnwF2l67VCV"
      },
      "source": [
        "## 3.1 Viewing Columns\n",
        "[credit](https://www.kaggle.com/prestonfan/house-pricing-ultimate-guide?scriptVersionId=38708063)\n"
      ]
    },
    {
      "cell_type": "code",
      "metadata": {
        "colab": {
          "base_uri": "https://localhost:8080/"
        },
        "id": "hCQ43d8a7UEr",
        "outputId": "3bea8e99-f4fd-4971-d8a2-720896a828ed"
      },
      "source": [
        "## Numerical Columns\n",
        "numerical_features = new_df.select_dtypes(exclude=['object']).drop(['gdp_o'], axis=1).copy()\n",
        "print(numerical_features.columns)"
      ],
      "execution_count": null,
      "outputs": [
        {
          "output_type": "stream",
          "text": [
            "Index(['year', 'contig', 'comlang_off', 'distw', 'pop_o', 'gdpcap_o', 'pop_d',\n",
            "       'gdp_d', 'gdpcap_d', 'heg_d', 'conflict', 'indepdate', 'heg_o',\n",
            "       'col_to', 'col_fr', 'col_hist', 'col_cur', 'sever', 'sib_conflict',\n",
            "       'gatt_o', 'gatt_d', 'rta', 'comleg', 'comcur', 'acp_to_eu', 'gsp',\n",
            "       'eu_to_acp', 'gsp_rec', 'flow', 'validmirror'],\n",
            "      dtype='object')\n"
          ],
          "name": "stdout"
        }
      ]
    },
    {
      "cell_type": "code",
      "metadata": {
        "colab": {
          "base_uri": "https://localhost:8080/"
        },
        "id": "ShRA5K1c7f5x",
        "outputId": "c44d88b3-9f42-4561-eeaa-996b23ab858d"
      },
      "source": [
        "## Categorical Columns \n",
        "categorical_features = new_df.select_dtypes(include=['object']).copy()\n",
        "print(categorical_features.columns)"
      ],
      "execution_count": null,
      "outputs": [
        {
          "output_type": "stream",
          "text": [
            "Index(['iso_o', 'iso_d', 'iso2_o', 'iso2_d', 'family'], dtype='object')\n"
          ],
          "name": "stdout"
        }
      ]
    },
    {
      "cell_type": "markdown",
      "metadata": {
        "id": "-oWwVI7TsTY3"
      },
      "source": [
        "## 3.2 Distribution plots for list of numerical features"
      ]
    },
    {
      "cell_type": "code",
      "metadata": {
        "colab": {
          "base_uri": "https://localhost:8080/",
          "height": 1000
        },
        "id": "YdLh_9-lkSTZ",
        "outputId": "b2c6f65d-2e91-425e-b199-299e6d734ff0"
      },
      "source": [
        "fig = plt.figure(figsize=(12,18))\n",
        "for i in range(len(numerical_features.columns)):\n",
        "    fig.add_subplot(9,4,i+1)\n",
        "    sns.distplot(numerical_features.iloc[:,i].dropna(), rug=True, hist=False, label='UW', kde_kws={'bw':0.1})\n",
        "    plt.xlabel(numerical_features.columns[i])\n",
        "plt.tight_layout()\n",
        "plt.show()"
      ],
      "execution_count": null,
      "outputs": [
        {
          "output_type": "display_data",
          "data": {
            "image/png": "[encoded data removed]",
            "text/plain": [
              "<Figure size 864x1296 with 30 Axes>"
            ]
          },
          "metadata": {
            "tags": [],
            "needs_background": "light"
          }
        }
      ]
    },
    {
      "cell_type": "markdown",
      "metadata": {
        "id": "83KNZFuPJibY"
      },
      "source": [
        "## 3.3 Univariate Analysis"
      ]
    },
    {
      "cell_type": "code",
      "metadata": {
        "colab": {
          "base_uri": "https://localhost:8080/",
          "height": 1000
        },
        "id": "IWv1LOgO7IRL",
        "outputId": "3f80d1fb-5f04-43d7-bd01-9d9d37c6f8c2"
      },
      "source": [
        "fig = plt.figure(figsize=(12,18))\n",
        "for i in range(len(numerical_features.columns)):\n",
        "    fig.add_subplot(9,4,i+1)\n",
        "    sns.boxplot(y=numerical_features.iloc[:,i])\n",
        "\n",
        "plt.tight_layout()\n",
        "plt.show()"
      ],
      "execution_count": null,
      "outputs": [
        {
          "output_type": "display_data",
          "data": {
            "image/png": "[encoded data removed]",
            "text/plain": [
              "<Figure size 864x1296 with 30 Axes>"
            ]
          },
          "metadata": {
            "tags": [],
            "needs_background": "light"
          }
        }
      ]
    },
    {
      "cell_type": "markdown",
      "metadata": {
        "id": "gn8xtRSXNMyN"
      },
      "source": [
        "## 3.4 Bivariate Analysis"
      ]
    },
    {
      "cell_type": "code",
      "metadata": {
        "colab": {
          "base_uri": "https://localhost:8080/",
          "height": 1000
        },
        "id": "12xDc-H8NNXf",
        "outputId": "9db28d14-8f3a-43e2-8521-f480e2a3b542"
      },
      "source": [
        "fig = plt.figure(figsize=(12,18))\n",
        "for i in range(len(numerical_features.columns)):\n",
        "    fig.add_subplot(9, 4, i+1)\n",
        "    sns.scatterplot(numerical_features.iloc[:, i],new_df['gdp_o'])\n",
        "plt.tight_layout()\n",
        "plt.show()"
      ],
      "execution_count": null,
      "outputs": [
        {
          "output_type": "display_data",
          "data": {
            "image/png": "[encoded data removed]",
            "text/plain": [
              "<Figure size 864x1296 with 30 Axes>"
            ]
          },
          "metadata": {
            "tags": [],
            "needs_background": "light"
          }
        }
      ]
    },
    {
      "cell_type": "markdown",
      "metadata": {
        "id": "D6Fnaf7QUYIl"
      },
      "source": [
        "## 4 - Data Processing\n",
        "4.1 Outliers\n",
        "\n",
        "4.2 Removing Certain Features\n",
        "\n",
        "4.3 Filling Numerical Missing Values\n",
        "\n",
        "4.4 Filling Categorical Missing Values\n",
        "\n"
      ]
    },
    {
      "cell_type": "markdown",
      "metadata": {
        "id": "Z83K6hX4a8iQ"
      },
      "source": [
        "## Notes on Outliers: According to the plots above, these are the features which appear to have outliers:\n",
        "'contig',  'pop_d',  'gdp_d', 'gdpcap_d',  'conflict', 'indepdate', 'flow'"
      ]
    },
    {
      "cell_type": "code",
      "metadata": {
        "colab": {
          "base_uri": "https://localhost:8080/",
          "height": 1000
        },
        "id": "WcktIcKSa9Pj",
        "outputId": "eba7aa74-4b9f-4de5-9d94-ce70b4111f09"
      },
      "source": [
        "figure, ((ax1, ax2), (ax3, ax4), (ax5, ax6)) = plt.subplots(nrows=3, ncols=2)\n",
        "figure.set_size_inches(16,28)\n",
        "_ = sns.regplot(new_df['pop_d'], new_df['gdp_o'], ax=ax1)\n",
        "_ = sns.regplot(new_df['gdp_d'], new_df['gdp_o'], ax=ax2)\n",
        "_ = sns.regplot(new_df['gdpcap_d'], new_df['gdp_o'], ax=ax3)\n",
        "_ = sns.regplot(new_df['indepdate'], new_df['gdp_o'], ax=ax4)\n",
        "_ = sns.regplot(new_df['flow'], new_df['gdp_o'], ax=ax5)"
      ],
      "execution_count": null,
      "outputs": [
        {
          "output_type": "display_data",
          "data": {
            "image/png": "[encoded data removed]",
            "text/plain": [
              "<Figure size 1152x2016 with 6 Axes>"
            ]
          },
          "metadata": {
            "tags": [],
            "needs_background": "light"
          }
        }
      ]
    },
    {
      "cell_type": "code",
      "metadata": {
        "colab": {
          "base_uri": "https://localhost:8080/"
        },
        "id": "e6ihYclDnBSb",
        "outputId": "96b6f82b-7c8a-4099-cb7a-da192cfed365"
      },
      "source": [
        "new_df.gdpcap_d.describe()"
      ],
      "execution_count": null,
      "outputs": [
        {
          "output_type": "execute_result",
          "data": {
            "text/plain": [
              "count     1223.000000\n",
              "mean      7018.111891\n",
              "std      10863.336640\n",
              "min         84.557396\n",
              "25%        626.327850\n",
              "50%       2119.447510\n",
              "75%       7659.993652\n",
              "max      66964.367188\n",
              "Name: gdpcap_d, dtype: float64"
            ]
          },
          "metadata": {
            "tags": []
          },
          "execution_count": 42
        }
      ]
    },
    {
      "cell_type": "code",
      "metadata": {
        "colab": {
          "base_uri": "https://localhost:8080/"
        },
        "id": "JIx4RPOErUCm",
        "outputId": "2c04bf2d-9ba0-4fa4-cf87-bd6824ab4dc5"
      },
      "source": [
        "new_df.indepdate.describe()"
      ],
      "execution_count": null,
      "outputs": [
        {
          "output_type": "execute_result",
          "data": {
            "text/plain": [
              "count      28.000000\n",
              "mean     1836.250000\n",
              "std        66.475629\n",
              "min      1776.000000\n",
              "25%      1796.250000\n",
              "50%      1811.500000\n",
              "75%      1851.500000\n",
              "max      1946.000000\n",
              "Name: indepdate, dtype: float64"
            ]
          },
          "metadata": {
            "tags": []
          },
          "execution_count": 43
        }
      ]
    },
    {
      "cell_type": "code",
      "metadata": {
        "colab": {
          "base_uri": "https://localhost:8080/"
        },
        "id": "9TbY5AiAsB7i",
        "outputId": "b6cca34f-26a7-4985-ac47-d23180c7ddb5"
      },
      "source": [
        "new_df.gdp_d.describe()"
      ],
      "execution_count": null,
      "outputs": [
        {
          "output_type": "execute_result",
          "data": {
            "text/plain": [
              "count    1.229000e+03\n",
              "mean     1.518791e+05\n",
              "std      4.704251e+05\n",
              "min      4.829947e+01\n",
              "25%      2.821606e+03\n",
              "50%      1.118645e+04\n",
              "75%      8.548410e+04\n",
              "max      4.649615e+06\n",
              "Name: gdp_d, dtype: float64"
            ]
          },
          "metadata": {
            "tags": []
          },
          "execution_count": 44
        }
      ]
    },
    {
      "cell_type": "code",
      "metadata": {
        "colab": {
          "base_uri": "https://localhost:8080/"
        },
        "id": "IrRidmIitX49",
        "outputId": "98fedc9f-bfe9-4556-9fb8-e561106b4902"
      },
      "source": [
        "new_df.pop_d.describe()"
      ],
      "execution_count": null,
      "outputs": [
        {
          "output_type": "execute_result",
          "data": {
            "text/plain": [
              "count    1310.000000\n",
              "mean       31.870993\n",
              "std       124.115005\n",
              "min         0.044286\n",
              "25%         1.798406\n",
              "50%         6.933600\n",
              "75%        21.634295\n",
              "max      1311.797729\n",
              "Name: pop_d, dtype: float64"
            ]
          },
          "metadata": {
            "tags": []
          },
          "execution_count": 45
        }
      ]
    },
    {
      "cell_type": "markdown",
      "metadata": {
        "id": "LFQkCUvNlLyn"
      },
      "source": [
        "## From these regplots we have confirmed there are outliers, so we decide to remove them"
      ]
    },
    {
      "cell_type": "code",
      "metadata": {
        "id": "EAPVIoKSUWKU"
      },
      "source": [
        "new_df = new_df.drop(new_df[new_df['gdpcap_d']>20000 ].index)\n",
        "new_df = new_df.drop(new_df[new_df['indepdate']>1934 ].index)\n",
        "new_df = new_df.drop(new_df[new_df['gdp_d']>209479 ].index)\n",
        "new_df = new_df.drop(new_df[new_df['pop_d']>51.388129 ].index)"
      ],
      "execution_count": null,
      "outputs": []
    },
    {
      "cell_type": "markdown",
      "metadata": {
        "id": "9e2TiCQLwJgg"
      },
      "source": [
        "## 4.2 Removing Certain Features"
      ]
    },
    {
      "cell_type": "code",
      "metadata": {
        "colab": {
          "base_uri": "https://localhost:8080/",
          "height": 1000
        },
        "id": "1xfAVMNDwLob",
        "outputId": "9f6ca7e5-df23-4b55-9245-341068e4da71"
      },
      "source": [
        "num_correlation = new_df.select_dtypes(exclude='object').corr()\n",
        "plt.figure(figsize=(20,20))\n",
        "plt.title('High Correlation')\n",
        "sns.heatmap(num_correlation > 0.8, annot=True, square=True)"
      ],
      "execution_count": null,
      "outputs": [
        {
          "output_type": "execute_result",
          "data": {
            "text/plain": [
              "<matplotlib.axes._subplots.AxesSubplot at 0x7f491f12d450>"
            ]
          },
          "metadata": {
            "tags": []
          },
          "execution_count": 47
        },
        {
          "output_type": "display_data",
          "data": {
            "image/png": "[encoded data removed]",
            "text/plain": [
              "<Figure size 1440x1440 with 2 Axes>"
            ]
          },
          "metadata": {
            "tags": [],
            "needs_background": "light"
          }
        }
      ]
    },
    {
      "cell_type": "markdown",
      "metadata": {
        "id": "QUtu6mTa8NeP"
      },
      "source": [
        "## Highly-Correlated Features:\n",
        "\n",
        "some of the features which are highly correlated that means which are some what linearly dependent with other features. These features contribute very less in predicting the output but increses the computational cost. Droping highly correlated features helps  to escape curse of dimensionality.\n",
        "\n",
        "Highly correlated features:\n",
        "\n",
        "year and gdp_o\n",
        "\n",
        "year and pop_o\n",
        "\n",
        "year and gdpcap_o\n",
        "\n",
        "gdp_o and pop_o\n",
        "\n",
        "gdocap_o and pop_o \n"
      ]
    },
    {
      "cell_type": "code",
      "metadata": {
        "colab": {
          "base_uri": "https://localhost:8080/"
        },
        "id": "YaARdGam7pYG",
        "outputId": "2613c639-03c6-41fc-db8d-ca63bb38f2cb"
      },
      "source": [
        "corr = num_correlation.corr()\n",
        "print(corr['gdp_o'].sort_values(ascending=False))"
      ],
      "execution_count": null,
      "outputs": [
        {
          "output_type": "stream",
          "text": [
            "gdp_o           1.000000\n",
            "gdpcap_o        0.999993\n",
            "year            0.999766\n",
            "pop_o           0.999694\n",
            "sever           0.090879\n",
            "rta             0.024139\n",
            "distw          -0.074987\n",
            "gdpcap_d       -0.090007\n",
            "comcur         -0.106678\n",
            "comlang_off    -0.124972\n",
            "gdp_d          -0.139431\n",
            "sib_conflict   -0.153071\n",
            "flow           -0.169676\n",
            "validmirror    -0.171090\n",
            "comleg         -0.177036\n",
            "gsp_rec        -0.192400\n",
            "pop_d          -0.205441\n",
            "gatt_d         -0.208303\n",
            "contig               NaN\n",
            "heg_d                NaN\n",
            "conflict             NaN\n",
            "indepdate            NaN\n",
            "heg_o                NaN\n",
            "col_to               NaN\n",
            "col_fr               NaN\n",
            "col_hist             NaN\n",
            "col_cur              NaN\n",
            "gatt_o               NaN\n",
            "acp_to_eu            NaN\n",
            "gsp                  NaN\n",
            "eu_to_acp            NaN\n",
            "Name: gdp_o, dtype: float64\n"
          ],
          "name": "stdout"
        }
      ]
    },
    {
      "cell_type": "markdown",
      "metadata": {
        "id": "tk1EO3oJ-i_h"
      },
      "source": [
        "gdp_o           \n",
        "gdpcap_o        \n",
        "year            \n",
        "pop_o"
      ]
    },
    {
      "cell_type": "code",
      "metadata": {
        "id": "fEvzFXsU-X_L"
      },
      "source": [
        "new_df.drop(columns=[ 'gdpcap_o','year', 'pop_o'],axis=1,inplace=True)\n",
        "test.drop(columns=['gdpcap_o','year', 'pop_o'],axis=1,inplace=True) "
      ],
      "execution_count": null,
      "outputs": []
    },
    {
      "cell_type": "markdown",
      "metadata": {
        "id": "z_vZHT73CYSd"
      },
      "source": [
        "## Lets see which features have the most missing values..."
      ]
    },
    {
      "cell_type": "code",
      "metadata": {
        "colab": {
          "base_uri": "https://localhost:8080/"
        },
        "id": "KGXqFe-wCa44",
        "outputId": "7110e04e-2443-4ef7-89d6-e1517d1d342e"
      },
      "source": [
        "new_df.isnull().mean().sort_values(ascending=False).head(10)"
      ],
      "execution_count": null,
      "outputs": [
        {
          "output_type": "execute_result",
          "data": {
            "text/plain": [
              "indepdate       1.000000\n",
              "conflict        1.000000\n",
              "sib_conflict    0.330484\n",
              "sever           0.330484\n",
              "family          0.330484\n",
              "gdpcap_d        0.128205\n",
              "gdp_d           0.122507\n",
              "pop_d           0.045584\n",
              "iso2_d          0.006648\n",
              "distw           0.000000\n",
              "dtype: float64"
            ]
          },
          "metadata": {
            "tags": []
          },
          "execution_count": 50
        }
      ]
    },
    {
      "cell_type": "code",
      "metadata": {
        "id": "piTNudW4DP9Z"
      },
      "source": [
        "new_df.drop(columns=['indepdate', 'conflict'],axis=1,inplace=True)\n",
        "test.drop(columns=['indepdate', 'conflict'],axis=1,inplace=True)"
      ],
      "execution_count": null,
      "outputs": []
    },
    {
      "cell_type": "code",
      "metadata": {
        "colab": {
          "base_uri": "https://localhost:8080/"
        },
        "id": "R6UkzJ9jE53b",
        "outputId": "43c08a57-4945-4fca-e1c9-a0b23b0dcade"
      },
      "source": [
        "test.isnull().mean().sort_values(ascending=False).head(3)"
      ],
      "execution_count": null,
      "outputs": [
        {
          "output_type": "execute_result",
          "data": {
            "text/plain": [
              "sib_conflict    0.396907\n",
              "sever           0.396907\n",
              "family          0.381443\n",
              "dtype: float64"
            ]
          },
          "metadata": {
            "tags": []
          },
          "execution_count": 52
        }
      ]
    },
    {
      "cell_type": "markdown",
      "metadata": {
        "id": "D0bfQ0QJIZfA"
      },
      "source": [
        "## Test data doesn't have any features that have over 50% of missing values. So we don't drop any features."
      ]
    },
    {
      "cell_type": "markdown",
      "metadata": {
        "id": "HMO9HbqPDiRH"
      },
      "source": [
        "## 4.3 Filling Numerical Missing Values\n"
      ]
    },
    {
      "cell_type": "code",
      "metadata": {
        "colab": {
          "base_uri": "https://localhost:8080/",
          "height": 286
        },
        "id": "EiBCnmJSDlJn",
        "outputId": "b58abc78-77aa-443b-e245-d1bc84ea691e"
      },
      "source": [
        "# Checking new_df and Test data missing value percentage\n",
        "null = pd.DataFrame(data={'new_df Null Percentage':new_df.isnull().sum()[new_df.isnull().sum() > 0], 'Test Null Percentage': test.isnull().sum()[test.isnull().sum() > 0]})\n",
        "null = (null/len(new_df)) * 100\n",
        "\n",
        "null.index.name='Feature'\n",
        "null"
      ],
      "execution_count": null,
      "outputs": [
        {
          "output_type": "execute_result",
          "data": {
            "text/html": [
              "<div>\n",
              "<style scoped>\n",
              "    .dataframe tbody tr th:only-of-type {\n",
              "        vertical-align: middle;\n",
              "    }\n",
              "\n",
              "    .dataframe tbody tr th {\n",
              "        vertical-align: top;\n",
              "    }\n",
              "\n",
              "    .dataframe thead th {\n",
              "        text-align: right;\n",
              "    }\n",
              "</style>\n",
              "<table border=\"1\" class=\"dataframe\">\n",
              "  <thead>\n",
              "    <tr style=\"text-align: right;\">\n",
              "      <th></th>\n",
              "      <th>new_df Null Percentage</th>\n",
              "      <th>Test Null Percentage</th>\n",
              "    </tr>\n",
              "    <tr>\n",
              "      <th>Feature</th>\n",
              "      <th></th>\n",
              "      <th></th>\n",
              "    </tr>\n",
              "  </thead>\n",
              "  <tbody>\n",
              "    <tr>\n",
              "      <th>pop_d</th>\n",
              "      <td>4.558405</td>\n",
              "      <td>4.558405</td>\n",
              "    </tr>\n",
              "    <tr>\n",
              "      <th>gdp_d</th>\n",
              "      <td>12.250712</td>\n",
              "      <td>12.250712</td>\n",
              "    </tr>\n",
              "    <tr>\n",
              "      <th>gdpcap_d</th>\n",
              "      <td>12.820513</td>\n",
              "      <td>12.820513</td>\n",
              "    </tr>\n",
              "    <tr>\n",
              "      <th>iso2_d</th>\n",
              "      <td>0.664767</td>\n",
              "      <td>0.664767</td>\n",
              "    </tr>\n",
              "    <tr>\n",
              "      <th>sever</th>\n",
              "      <td>33.048433</td>\n",
              "      <td>51.187085</td>\n",
              "    </tr>\n",
              "    <tr>\n",
              "      <th>sib_conflict</th>\n",
              "      <td>33.048433</td>\n",
              "      <td>51.187085</td>\n",
              "    </tr>\n",
              "    <tr>\n",
              "      <th>family</th>\n",
              "      <td>33.048433</td>\n",
              "      <td>49.192783</td>\n",
              "    </tr>\n",
              "  </tbody>\n",
              "</table>\n",
              "</div>"
            ],
            "text/plain": [
              "              new_df Null Percentage  Test Null Percentage\n",
              "Feature                                                   \n",
              "pop_d                       4.558405              4.558405\n",
              "gdp_d                      12.250712             12.250712\n",
              "gdpcap_d                   12.820513             12.820513\n",
              "iso2_d                      0.664767              0.664767\n",
              "sever                      33.048433             51.187085\n",
              "sib_conflict               33.048433             51.187085\n",
              "family                     33.048433             49.192783"
            ]
          },
          "metadata": {
            "tags": []
          },
          "execution_count": 53
        }
      ]
    },
    {
      "cell_type": "code",
      "metadata": {
        "colab": {
          "base_uri": "https://localhost:8080/"
        },
        "id": "wqfTmRSgJCy8",
        "outputId": "ba005df3-617d-45bb-e970-aaf3477d47c8"
      },
      "source": [
        "new_df.isnull().sum().sort_values(ascending=False)[:50]"
      ],
      "execution_count": null,
      "outputs": [
        {
          "output_type": "execute_result",
          "data": {
            "text/plain": [
              "family          348\n",
              "sib_conflict    348\n",
              "sever           348\n",
              "gdpcap_d        135\n",
              "gdp_d           129\n",
              "pop_d            48\n",
              "iso2_d            7\n",
              "col_to            0\n",
              "iso_d             0\n",
              "contig            0\n",
              "comlang_off       0\n",
              "distw             0\n",
              "gdp_o             0\n",
              "iso2_o            0\n",
              "heg_d             0\n",
              "heg_o             0\n",
              "col_hist          0\n",
              "col_fr            0\n",
              "validmirror       0\n",
              "col_cur           0\n",
              "gatt_o            0\n",
              "gatt_d            0\n",
              "rta               0\n",
              "comleg            0\n",
              "comcur            0\n",
              "acp_to_eu         0\n",
              "gsp               0\n",
              "eu_to_acp         0\n",
              "gsp_rec           0\n",
              "flow              0\n",
              "iso_o             0\n",
              "dtype: int64"
            ]
          },
          "metadata": {
            "tags": []
          },
          "execution_count": 54
        }
      ]
    },
    {
      "cell_type": "code",
      "metadata": {
        "colab": {
          "base_uri": "https://localhost:8080/",
          "height": 226
        },
        "id": "5tkr8IziJOwT",
        "outputId": "25893dfc-dec7-46a9-acf0-092838508695"
      },
      "source": [
        "new_df_num_features = new_df.select_dtypes(exclude='object').isnull().mean()\n",
        "test_num_features = test.select_dtypes(exclude='object').isnull().mean()\n",
        "\n",
        "num_null_features = pd.DataFrame(data={'Missing Num new_df Percentage: ': new_df_num_features[new_df_num_features>0], 'Missing Num Test Percentage: ': test_num_features[test_num_features>0]})\n",
        "num_null_features.index.name = 'Numerical Features'\n",
        "num_null_features"
      ],
      "execution_count": null,
      "outputs": [
        {
          "output_type": "execute_result",
          "data": {
            "text/html": [
              "<div>\n",
              "<style scoped>\n",
              "    .dataframe tbody tr th:only-of-type {\n",
              "        vertical-align: middle;\n",
              "    }\n",
              "\n",
              "    .dataframe tbody tr th {\n",
              "        vertical-align: top;\n",
              "    }\n",
              "\n",
              "    .dataframe thead th {\n",
              "        text-align: right;\n",
              "    }\n",
              "</style>\n",
              "<table border=\"1\" class=\"dataframe\">\n",
              "  <thead>\n",
              "    <tr style=\"text-align: right;\">\n",
              "      <th></th>\n",
              "      <th>Missing Num new_df Percentage:</th>\n",
              "      <th>Missing Num Test Percentage:</th>\n",
              "    </tr>\n",
              "    <tr>\n",
              "      <th>Numerical Features</th>\n",
              "      <th></th>\n",
              "      <th></th>\n",
              "    </tr>\n",
              "  </thead>\n",
              "  <tbody>\n",
              "    <tr>\n",
              "      <th>pop_d</th>\n",
              "      <td>0.045584</td>\n",
              "      <td>0.035346</td>\n",
              "    </tr>\n",
              "    <tr>\n",
              "      <th>gdp_d</th>\n",
              "      <td>0.122507</td>\n",
              "      <td>0.094993</td>\n",
              "    </tr>\n",
              "    <tr>\n",
              "      <th>gdpcap_d</th>\n",
              "      <td>0.128205</td>\n",
              "      <td>0.099411</td>\n",
              "    </tr>\n",
              "    <tr>\n",
              "      <th>sever</th>\n",
              "      <td>0.330484</td>\n",
              "      <td>0.396907</td>\n",
              "    </tr>\n",
              "    <tr>\n",
              "      <th>sib_conflict</th>\n",
              "      <td>0.330484</td>\n",
              "      <td>0.396907</td>\n",
              "    </tr>\n",
              "  </tbody>\n",
              "</table>\n",
              "</div>"
            ],
            "text/plain": [
              "                    Missing Num new_df Percentage:   \\\n",
              "Numerical Features                                    \n",
              "pop_d                                      0.045584   \n",
              "gdp_d                                      0.122507   \n",
              "gdpcap_d                                   0.128205   \n",
              "sever                                      0.330484   \n",
              "sib_conflict                               0.330484   \n",
              "\n",
              "                    Missing Num Test Percentage:   \n",
              "Numerical Features                                 \n",
              "pop_d                                    0.035346  \n",
              "gdp_d                                    0.094993  \n",
              "gdpcap_d                                 0.099411  \n",
              "sever                                    0.396907  \n",
              "sib_conflict                             0.396907  "
            ]
          },
          "metadata": {
            "tags": []
          },
          "execution_count": 55
        }
      ]
    },
    {
      "cell_type": "code",
      "metadata": {
        "id": "xL4TWVYoL-9Y"
      },
      "source": [
        "for df in [new_df, test]:\n",
        "    for col in ('comlang_off', 'distw','pop_d',\n",
        "       'gdp_d', 'gdpcap_d', 'heg_d','heg_o',\n",
        "       'col_to', 'col_fr', 'col_hist', 'col_cur', 'sever', 'sib_conflict',\n",
        "       'gatt_o', 'gatt_d', 'rta', 'comleg', 'comcur', 'acp_to_eu', 'gsp',\n",
        "       'eu_to_acp', 'gsp_rec', 'flow', 'validmirror'):\n",
        "                    df[col] = df[col].fillna(0)"
      ],
      "execution_count": null,
      "outputs": []
    },
    {
      "cell_type": "code",
      "metadata": {
        "colab": {
          "base_uri": "https://localhost:8080/",
          "height": 77
        },
        "id": "q1cDahgDNvvD",
        "outputId": "b2f7edf5-f199-4062-eac9-9fa21cc5296a"
      },
      "source": [
        "new_df_num_features = new_df.select_dtypes(exclude='object').isnull().mean()\n",
        "test_num_features = test.select_dtypes(exclude='object').isnull().mean()\n",
        "\n",
        "num_null_features = pd.DataFrame(data={'Missing Num new_df Percentage: ': new_df_num_features[new_df_num_features>0], 'Missing Num Test Percentage: ': test_num_features[test_num_features>0]})\n",
        "num_null_features.index.name = 'Numerical Features'\n",
        "num_null_features"
      ],
      "execution_count": null,
      "outputs": [
        {
          "output_type": "execute_result",
          "data": {
            "text/html": [
              "<div>\n",
              "<style scoped>\n",
              "    .dataframe tbody tr th:only-of-type {\n",
              "        vertical-align: middle;\n",
              "    }\n",
              "\n",
              "    .dataframe tbody tr th {\n",
              "        vertical-align: top;\n",
              "    }\n",
              "\n",
              "    .dataframe thead th {\n",
              "        text-align: right;\n",
              "    }\n",
              "</style>\n",
              "<table border=\"1\" class=\"dataframe\">\n",
              "  <thead>\n",
              "    <tr style=\"text-align: right;\">\n",
              "      <th></th>\n",
              "      <th>Missing Num new_df Percentage:</th>\n",
              "      <th>Missing Num Test Percentage:</th>\n",
              "    </tr>\n",
              "    <tr>\n",
              "      <th>Numerical Features</th>\n",
              "      <th></th>\n",
              "      <th></th>\n",
              "    </tr>\n",
              "  </thead>\n",
              "  <tbody>\n",
              "  </tbody>\n",
              "</table>\n",
              "</div>"
            ],
            "text/plain": [
              "Empty DataFrame\n",
              "Columns: [Missing Num new_df Percentage: , Missing Num Test Percentage: ]\n",
              "Index: []"
            ]
          },
          "metadata": {
            "tags": []
          },
          "execution_count": 57
        }
      ]
    },
    {
      "cell_type": "markdown",
      "metadata": {
        "id": "hZHlx_d4N2YL"
      },
      "source": [
        "## 4.4 Filling Categorical Missing Values"
      ]
    },
    {
      "cell_type": "code",
      "metadata": {
        "colab": {
          "base_uri": "https://localhost:8080/"
        },
        "id": "dxQr5qb2NxhU",
        "outputId": "4fb963be-f450-44d4-b4dd-97f9457c05fa"
      },
      "source": [
        "cat_col = new_df.select_dtypes(include='object').columns\n",
        "print(cat_col)"
      ],
      "execution_count": null,
      "outputs": [
        {
          "output_type": "stream",
          "text": [
            "Index(['iso_o', 'iso_d', 'iso2_o', 'iso2_d', 'family'], dtype='object')\n"
          ],
          "name": "stdout"
        }
      ]
    },
    {
      "cell_type": "code",
      "metadata": {
        "colab": {
          "base_uri": "https://localhost:8080/",
          "height": 137
        },
        "id": "kk5YOKaGOrsh",
        "outputId": "fcc1276d-728b-49d5-d807-28531edeef4d"
      },
      "source": [
        "new_df_cat_features = new_df.select_dtypes(include='object').isnull().mean()\n",
        "test_cat_features = test.select_dtypes(include='object').isnull().mean()\n",
        "\n",
        "cat_null_features = pd.DataFrame(data={'Missing Cat new_df Percentage: ': new_df_cat_features[new_df_cat_features>0], 'Missing Cat Test Percentage: ': test_cat_features[test_cat_features>0]})\n",
        "cat_null_features.index.name = 'Categorical Features'\n",
        "cat_null_features"
      ],
      "execution_count": null,
      "outputs": [
        {
          "output_type": "execute_result",
          "data": {
            "text/html": [
              "<div>\n",
              "<style scoped>\n",
              "    .dataframe tbody tr th:only-of-type {\n",
              "        vertical-align: middle;\n",
              "    }\n",
              "\n",
              "    .dataframe tbody tr th {\n",
              "        vertical-align: top;\n",
              "    }\n",
              "\n",
              "    .dataframe thead th {\n",
              "        text-align: right;\n",
              "    }\n",
              "</style>\n",
              "<table border=\"1\" class=\"dataframe\">\n",
              "  <thead>\n",
              "    <tr style=\"text-align: right;\">\n",
              "      <th></th>\n",
              "      <th>Missing Cat new_df Percentage:</th>\n",
              "      <th>Missing Cat Test Percentage:</th>\n",
              "    </tr>\n",
              "    <tr>\n",
              "      <th>Categorical Features</th>\n",
              "      <th></th>\n",
              "      <th></th>\n",
              "    </tr>\n",
              "  </thead>\n",
              "  <tbody>\n",
              "    <tr>\n",
              "      <th>iso2_d</th>\n",
              "      <td>0.006648</td>\n",
              "      <td>0.005155</td>\n",
              "    </tr>\n",
              "    <tr>\n",
              "      <th>family</th>\n",
              "      <td>0.330484</td>\n",
              "      <td>0.381443</td>\n",
              "    </tr>\n",
              "  </tbody>\n",
              "</table>\n",
              "</div>"
            ],
            "text/plain": [
              "                      Missing Cat new_df Percentage:   \\\n",
              "Categorical Features                                    \n",
              "iso2_d                                       0.006648   \n",
              "family                                       0.330484   \n",
              "\n",
              "                      Missing Cat Test Percentage:   \n",
              "Categorical Features                                 \n",
              "iso2_d                                     0.005155  \n",
              "family                                     0.381443  "
            ]
          },
          "metadata": {
            "tags": []
          },
          "execution_count": 59
        }
      ]
    },
    {
      "cell_type": "code",
      "metadata": {
        "id": "p7KRGtxNUPlI"
      },
      "source": [
        "for df in [new_df, test]:\n",
        "    for col in ('iso2_d','family'):\n",
        "        df[col] = df[col].fillna(df[col].mode()[0])"
      ],
      "execution_count": null,
      "outputs": []
    },
    {
      "cell_type": "code",
      "metadata": {
        "colab": {
          "base_uri": "https://localhost:8080/",
          "height": 77
        },
        "id": "mTgAxxQdUeGh",
        "outputId": "ed65051a-b346-4fb8-cb0e-70e4e1b2768f"
      },
      "source": [
        "new_df_cat_features = new_df.select_dtypes(include='object').isnull().mean()\n",
        "test_cat_features = test.select_dtypes(include='object').isnull().mean()\n",
        "\n",
        "cat_null_features = pd.DataFrame(data={'Missing Cat new_df Percentage: ': new_df_cat_features[new_df_cat_features>0], 'Missing Cat Test Percentage: ': test_cat_features[test_cat_features>0]})\n",
        "cat_null_features.index.name = 'Categorical Features'\n",
        "cat_null_features"
      ],
      "execution_count": null,
      "outputs": [
        {
          "output_type": "execute_result",
          "data": {
            "text/html": [
              "<div>\n",
              "<style scoped>\n",
              "    .dataframe tbody tr th:only-of-type {\n",
              "        vertical-align: middle;\n",
              "    }\n",
              "\n",
              "    .dataframe tbody tr th {\n",
              "        vertical-align: top;\n",
              "    }\n",
              "\n",
              "    .dataframe thead th {\n",
              "        text-align: right;\n",
              "    }\n",
              "</style>\n",
              "<table border=\"1\" class=\"dataframe\">\n",
              "  <thead>\n",
              "    <tr style=\"text-align: right;\">\n",
              "      <th></th>\n",
              "      <th>Missing Cat new_df Percentage:</th>\n",
              "      <th>Missing Cat Test Percentage:</th>\n",
              "    </tr>\n",
              "    <tr>\n",
              "      <th>Categorical Features</th>\n",
              "      <th></th>\n",
              "      <th></th>\n",
              "    </tr>\n",
              "  </thead>\n",
              "  <tbody>\n",
              "  </tbody>\n",
              "</table>\n",
              "</div>"
            ],
            "text/plain": [
              "Empty DataFrame\n",
              "Columns: [Missing Cat new_df Percentage: , Missing Cat Test Percentage: ]\n",
              "Index: []"
            ]
          },
          "metadata": {
            "tags": []
          },
          "execution_count": 61
        }
      ]
    },
    {
      "cell_type": "markdown",
      "metadata": {
        "id": "WK_mIczDUhJJ"
      },
      "source": [
        "\n",
        "## 5 - Modelling\n",
        "\n",
        "In this section:\n",
        "\n",
        "5.1 Dealing with Data for Modelling\n",
        "\n",
        "5.2 Finding the Best Model\n",
        "\n",
        "5.3 Setting up Final Model for Submission"
      ]
    },
    {
      "cell_type": "markdown",
      "metadata": {
        "id": "MbZYsmyvU1S1"
      },
      "source": [
        "## 5.1 Dealing with Data for Modelling"
      ]
    },
    {
      "cell_type": "code",
      "metadata": {
        "id": "VXfrQDSsUw3p"
      },
      "source": [
        "X = new_df.drop(['gdp_o'], axis=1)\n",
        "y = np.log1p(new_df['gdp_o'])"
      ],
      "execution_count": null,
      "outputs": []
    },
    {
      "cell_type": "markdown",
      "metadata": {
        "id": "VydUn9saVKVi"
      },
      "source": [
        "Split X and y into train and valid data for model testing"
      ]
    },
    {
      "cell_type": "code",
      "metadata": {
        "id": "8wsTJl7QVLt4"
      },
      "source": [
        "X_train, X_valid, y_train, y_valid = train_test_split(X, y, test_size=0.2, train_size=0.8, random_state=2)"
      ],
      "execution_count": null,
      "outputs": []
    },
    {
      "cell_type": "code",
      "metadata": {
        "colab": {
          "base_uri": "https://localhost:8080/"
        },
        "id": "K-aK6m25VQMs",
        "outputId": "fceacbf0-21d2-4dcc-af9d-a16f2d0de87d"
      },
      "source": [
        "X_train.shape, X_valid.shape"
      ],
      "execution_count": null,
      "outputs": [
        {
          "output_type": "execute_result",
          "data": {
            "text/plain": [
              "((842, 30), (211, 30))"
            ]
          },
          "metadata": {
            "tags": []
          },
          "execution_count": 64
        }
      ]
    },
    {
      "cell_type": "code",
      "metadata": {
        "colab": {
          "base_uri": "https://localhost:8080/"
        },
        "id": "iwwbYlMGozTr",
        "outputId": "3f62094e-b89d-4238-d682-84fb71edb40b"
      },
      "source": [
        "X_train.info()"
      ],
      "execution_count": null,
      "outputs": [
        {
          "output_type": "stream",
          "text": [
            "<class 'pandas.core.frame.DataFrame'>\n",
            "Int64Index: 842 entries, 1132883 to 1134033\n",
            "Data columns (total 30 columns):\n",
            " #   Column        Non-Null Count  Dtype  \n",
            "---  ------        --------------  -----  \n",
            " 0   iso_o         842 non-null    object \n",
            " 1   iso_d         842 non-null    object \n",
            " 2   contig        842 non-null    int64  \n",
            " 3   comlang_off   842 non-null    int64  \n",
            " 4   distw         842 non-null    float64\n",
            " 5   iso2_o        842 non-null    object \n",
            " 6   pop_d         842 non-null    float64\n",
            " 7   gdp_d         842 non-null    float64\n",
            " 8   gdpcap_d      842 non-null    float64\n",
            " 9   iso2_d        842 non-null    object \n",
            " 10  heg_d         842 non-null    int64  \n",
            " 11  heg_o         842 non-null    int64  \n",
            " 12  col_to        842 non-null    int64  \n",
            " 13  col_fr        842 non-null    int64  \n",
            " 14  col_hist      842 non-null    int64  \n",
            " 15  col_cur       842 non-null    int64  \n",
            " 16  sever         842 non-null    float64\n",
            " 17  sib_conflict  842 non-null    float64\n",
            " 18  gatt_o        842 non-null    int64  \n",
            " 19  gatt_d        842 non-null    int64  \n",
            " 20  rta           842 non-null    int64  \n",
            " 21  comleg        842 non-null    int64  \n",
            " 22  comcur        842 non-null    int64  \n",
            " 23  acp_to_eu     842 non-null    int64  \n",
            " 24  gsp           842 non-null    int64  \n",
            " 25  eu_to_acp     842 non-null    int64  \n",
            " 26  gsp_rec       842 non-null    int64  \n",
            " 27  flow          842 non-null    float64\n",
            " 28  validmirror   842 non-null    int64  \n",
            " 29  family        842 non-null    object \n",
            "dtypes: float64(7), int64(18), object(5)\n",
            "memory usage: 203.9+ KB\n"
          ],
          "name": "stdout"
        }
      ]
    },
    {
      "cell_type": "markdown",
      "metadata": {
        "id": "BUVCHbl1XIz7"
      },
      "source": [
        "We select every numerical column from X and the categorical columns with unique values under 30"
      ]
    },
    {
      "cell_type": "code",
      "metadata": {
        "id": "rY7IqmqJXRfT"
      },
      "source": [
        "categorical_cols = [cname for cname in X.columns if\n",
        "                    X[cname].nunique() <= 30 and\n",
        "                    X[cname].dtype == \"object\"] \n",
        "                \n",
        "\n",
        "\n",
        "numerical_cols = [cname for cname in X.columns if\n",
        "                 X[cname].dtype in ['int64','float64']]\n",
        "\n",
        "\n",
        "my_cols = numerical_cols + categorical_cols\n",
        "\n",
        "X_train = X_train[my_cols].copy()\n",
        "X_valid = X_valid[my_cols].copy()\n",
        "X_test = test[my_cols].copy()"
      ],
      "execution_count": null,
      "outputs": []
    },
    {
      "cell_type": "code",
      "metadata": {
        "id": "fbVE-v-ldh8o"
      },
      "source": [
        "# Convert columns that are not numeric to a numeric value\n",
        "for c in X_train.columns:\n",
        "    if X_train[c].dtype == 'object':\n",
        "        lbl = preprocessing.LabelEncoder()\n",
        "        lbl.fit(list(X_train[c].values))\n",
        "        X_train[c] = lbl.transform(list(X_train[c].values))\n",
        "        # x_train_full.drop(c,axis=1,inplace=True)"
      ],
      "execution_count": null,
      "outputs": []
    },
    {
      "cell_type": "markdown",
      "metadata": {
        "id": "TatkqnRsXdJ6"
      },
      "source": [
        "Here we create a 'num_transformer' and a 'cat_transformer' for imputing and hot-encoding numerical and categorical values. We then store these transformers into a preprocessor column transformer"
      ]
    },
    {
      "cell_type": "code",
      "metadata": {
        "id": "9NBE8TLnXHxR"
      },
      "source": [
        "num_transformer = Pipeline(steps=[\n",
        "    ('num_imputer', SimpleImputer(strategy='constant'))\n",
        "    ])\n",
        "\n",
        "cat_transformer = Pipeline(steps=[\n",
        "    ('imputer', SimpleImputer(strategy='most_frequent')),\n",
        "    ('onehot', OneHotEncoder(handle_unknown='ignore'))\n",
        "    ])\n",
        "\n",
        "preprocessor = ColumnTransformer(\n",
        "    transformers=[\n",
        "        ('num', num_transformer, numerical_cols),       \n",
        "        ('cat',cat_transformer,categorical_cols),\n",
        "        ])"
      ],
      "execution_count": null,
      "outputs": []
    },
    {
      "cell_type": "code",
      "metadata": {
        "colab": {
          "base_uri": "https://localhost:8080/"
        },
        "id": "cXDYfTVeo8Rc",
        "outputId": "51336895-1ae5-4f9f-ddf5-fa05032ca716"
      },
      "source": [
        "X_train.info()"
      ],
      "execution_count": null,
      "outputs": [
        {
          "output_type": "stream",
          "text": [
            "<class 'pandas.core.frame.DataFrame'>\n",
            "Int64Index: 842 entries, 1132883 to 1134033\n",
            "Data columns (total 28 columns):\n",
            " #   Column        Non-Null Count  Dtype  \n",
            "---  ------        --------------  -----  \n",
            " 0   contig        842 non-null    int64  \n",
            " 1   comlang_off   842 non-null    int64  \n",
            " 2   distw         842 non-null    float64\n",
            " 3   pop_d         842 non-null    float64\n",
            " 4   gdp_d         842 non-null    float64\n",
            " 5   gdpcap_d      842 non-null    float64\n",
            " 6   heg_d         842 non-null    int64  \n",
            " 7   heg_o         842 non-null    int64  \n",
            " 8   col_to        842 non-null    int64  \n",
            " 9   col_fr        842 non-null    int64  \n",
            " 10  col_hist      842 non-null    int64  \n",
            " 11  col_cur       842 non-null    int64  \n",
            " 12  sever         842 non-null    float64\n",
            " 13  sib_conflict  842 non-null    float64\n",
            " 14  gatt_o        842 non-null    int64  \n",
            " 15  gatt_d        842 non-null    int64  \n",
            " 16  rta           842 non-null    int64  \n",
            " 17  comleg        842 non-null    int64  \n",
            " 18  comcur        842 non-null    int64  \n",
            " 19  acp_to_eu     842 non-null    int64  \n",
            " 20  gsp           842 non-null    int64  \n",
            " 21  eu_to_acp     842 non-null    int64  \n",
            " 22  gsp_rec       842 non-null    int64  \n",
            " 23  flow          842 non-null    float64\n",
            " 24  validmirror   842 non-null    int64  \n",
            " 25  iso_o         842 non-null    int64  \n",
            " 26  iso2_o        842 non-null    int64  \n",
            " 27  family        842 non-null    int64  \n",
            "dtypes: float64(7), int64(21)\n",
            "memory usage: 190.8 KB\n"
          ],
          "name": "stdout"
        }
      ]
    },
    {
      "cell_type": "markdown",
      "metadata": {
        "id": "eJL47XSMX3gj"
      },
      "source": [
        "## 5.2 Finding the Best Model\n",
        "\n",
        "## 5.2.1  XGBoost Algorithm \n",
        "\n",
        "\n",
        "XGBoost stands for Extreme [Gradient Boosting](https://https://www.kaggle.com/prashant111/xgboost-k-fold-cv-feature-importance).\n",
        "\n",
        "It is a performant machine learning library based on the paper Greedy Function Approximation: A Gradient Boosting Machine, by Friedman\n",
        "\n",
        "It is an open source machine learning library providing a high-performance implementation of gradient boosted decision trees.\n",
        "\n",
        "It is originally written in C++ and is comparatively faster than other ensemble classifiers.\n",
        "\n",
        "It belongs to a family of boosting algorithms and uses the gradient boosting (GBM) framework at its core.\n",
        "\n",
        "XGBoost implements a Gradient Boosting algorithm based on decision trees.\n",
        "\n",
        "So, to understand XGBoost completely, we need to understand Gradient Boosting Algorithm (discussed later).\n",
        "\n",
        "Please follow the links below for more in-depth discussion on XGBoost.\n",
        "\n",
        "[XGBoost Official Documentation](https://https://xgboost.readthedocs.io/en/latest/)\n",
        "\n",
        "## 5.2.2 [Lasso Regression](https://https://machinelearningmastery.com/lasso-regression-with-python/)\n",
        "Linear regression refers to a model that assumes a linear relationship between input variables and the target variable.\n",
        "\n",
        "With a single input variable, this relationship is a line, and with higher dimensions, this relationship can be thought of as a hyperplane that connects the input variables to the target variable. The coefficients of the model are found via an optimization process that seeks to minimize the sum squared error between the predictions (yhat) and the expected target values (y).\n",
        "\n",
        "loss = sum i=0 to n (y_i – yhat_i)^2\n",
        "A problem with linear regression is that estimated coefficients of the model can become large, making the model sensitive to inputs and possibly unstable. This is particularly true for problems with few observations (samples) or more samples (n) than input predictors (p) or variables (so-called p >> n problems).\n",
        "\n",
        "## 5.2.3 [Gradient Tree Boosting](https://scikit-learn.org/stable/modules/ensemble.html#gradient-boosting)\n",
        "\n",
        "Gradient Tree Boosting or Gradient Boosted Decision Trees (GBDT) is a generalization of boosting to arbitrary differentiable loss functions. GBDT is an accurate and effective off-the-shelf procedure that can be used for both regression and classification problems in a variety of areas including Web search ranking and ecology.\n",
        "\n",
        "\n",
        "## 5.2.4 [Decision Trees](https://https://scikit-learn.org/stable/modules/tree.html#tree)\n",
        "\n",
        "Decision Trees (DTs) are a non-parametric supervised learning method used for classification and regression. The goal is to create a model that predicts the value of a target variable by learning simple decision rules inferred from the data features. A tree can be seen as a piecewise constant approximation.\n",
        "\n",
        "## 5.2.5 [Random Forest ](https://scikit-learn.org/0.16/modules/generated/sklearn.ensemble.RandomForestRegressor.html)\n",
        "\n",
        "A random forest is a meta estimator that fits a number of classifying decision trees on various sub-samples of the dataset and use averaging to improve the predictive accuracy and control over-fitting.\n",
        "\n",
        "\n"
      ]
    },
    {
      "cell_type": "markdown",
      "metadata": {
        "id": "4I4wal3aX6p2"
      },
      "source": [
        "We test three models: 'XGBoost', 'Lasso', and 'Gradient' and see which one performs the best"
      ]
    },
    {
      "cell_type": "code",
      "metadata": {
        "colab": {
          "base_uri": "https://localhost:8080/"
        },
        "id": "iGTUuN9LX7Yo",
        "outputId": "d29c3a6d-0785-4fa6-8030-71f47adcb3d6"
      },
      "source": [
        "# Reversing log-transform on y\n",
        "def inv_y(transformed_y):\n",
        "    return np.exp(transformed_y)\n",
        "\n",
        "n_folds = 10\n",
        "\n",
        "# XGBoost\n",
        "model = XGBRegressor(learning_rate=0.05, max_depth=7, min_child_weight=4, n_estimators=500, nthread=4, objective= 'reg:linear', silent=1, subsample= 0.7)\n",
        "clf = Pipeline(steps=[('preprocessor', preprocessor),\n",
        "                          ('model', model)])\n",
        "clf.fit(X_train, y_train)\n",
        "predict = clf.predict(X_valid)\n",
        "print('XGBoost: ' + str(mean_absolute_error(inv_y(predict), inv_y(y_valid))))\n",
        "\n",
        "      \n",
        "# Lasso   \n",
        "model = LassoCV(max_iter=1e7,  random_state=14, cv=n_folds)\n",
        "clf = Pipeline(steps=[('preprocessor', preprocessor),\n",
        "                          ('model', model)])\n",
        "clf.fit(X_train, y_train)\n",
        "predict = clf.predict(X_valid)\n",
        "print('Lasso: ' + str(mean_absolute_error(inv_y(predict), inv_y(y_valid))))\n",
        "  \n",
        "      \n",
        "      \n",
        "# GradientBoosting   \n",
        "model = GradientBoostingRegressor(n_estimators=300, learning_rate=0.05, max_depth=4, random_state=5)\n",
        "clf = Pipeline(steps=[('preprocessor', preprocessor),\n",
        "                          ('model', model)])\n",
        "clf.fit(X_train, y_train)\n",
        "predict = clf.predict(X_valid)\n",
        "print('Gradient: ' + str(mean_absolute_error(inv_y(predict), inv_y(y_valid))))\n",
        "\n",
        "\n",
        "\n",
        "#fit decision tree\n",
        "model = DecisionTreeRegressor()\n",
        "clf = Pipeline(steps=[('preprocessor', preprocessor),\n",
        "                          ('model', model)])\n",
        "\n",
        "clf.fit(X_train, y_train)\n",
        "predict = clf.predict(X_valid)\n",
        "print('GDecisionTree: ' + str(mean_absolute_error(inv_y(predict), inv_y(y_valid))))\n",
        "\n",
        "\n",
        "\n",
        "\n",
        "#fit random forest\n",
        "model = RandomForestRegressor(bootstrap=False, ccp_alpha=0.0, criterion='mse',\n",
        "                      max_depth=50, max_features=5, max_leaf_nodes=None,\n",
        "                      max_samples=None, min_impurity_decrease=0.0,\n",
        "                      min_impurity_split=None, min_samples_leaf=1,\n",
        "                      min_samples_split=2, min_weight_fraction_leaf=0.0,\n",
        "                      n_estimators=25, n_jobs=-1, oob_score=False,\n",
        "                      random_state=None, verbose=0, warm_start=False)\n",
        "clf = Pipeline(steps=[('preprocessor', preprocessor),\n",
        "                          ('model', model)])\n",
        "\n",
        "clf.fit(X_train, y_train)\n",
        "predict = clf.predict(X_valid)\n",
        "print('RandomForest: ' + str(mean_absolute_error(inv_y(predict), inv_y(y_valid))))"
      ],
      "execution_count": null,
      "outputs": [
        {
          "output_type": "stream",
          "text": [
            "XGBoost: 678323.6161137449\n",
            "Lasso: 971904.6833134718\n",
            "Gradient: 817918.8308332252\n",
            "GDecisionTree: 916194.8056872034\n",
            "RandomForest: 672662.685042448\n"
          ],
          "name": "stdout"
        }
      ]
    },
    {
      "cell_type": "markdown",
      "metadata": {
        "id": "lc836yk6ntVA"
      },
      "source": [
        "## 5.2.2.1 [Hyperparameter optimization](https://https://en.wikipedia.org/wiki/Hyperparameter_optimization)\n",
        "\n",
        "In machine learning, hyperparameter optimization or tuning is the problem of choosing a set of optimal hyperparameters for a learning algorithm. A hyperparameter is a parameter whose value is used to control the learning process. By contrast, the values of other parameters (typically node weights) are learned.\n",
        "\n",
        "The same kind of machine learning model can require different constraints, weights or learning rates to generalize different data patterns. These measures are called hyperparameters, and have to be tuned so that the model can optimally solve the machine learning problem. Hyperparameter optimization finds a tuple of hyperparameters that yields an optimal model which minimizes a predefined loss function on given independent data. The objective function takes a tuple of hyperparameters and returns the associated loss.Cross-validation is often used to estimate this generalization performance."
      ]
    },
    {
      "cell_type": "markdown",
      "metadata": {
        "id": "opaBWyHpnYZL"
      },
      "source": [
        "## Tuning the hyper-parameters of XGBoost\n",
        "\n",
        "GridSearchCV params:\n",
        "\n",
        "estimator: estimator object\n",
        "\n",
        "param_grid : dict or list of dictionaries\n",
        "\n",
        "scoring: A single string or a callable to evaluate the predictions on the test set. If None, the estimator’s score method is used.\n",
        "\n",
        "https://scikit-learn.org/stable/modules/model_evaluation.html#scoring-parameter\n",
        "\n",
        "n_jobs: Number of jobs to run in parallel. None means. -1 means using all processors.\n",
        "\n",
        "cv: cross-validation, None, to use the default 3-fold cross validation. Integer, to specify the number of folds in a (Stratified)KFold."
      ]
    },
    {
      "cell_type": "code",
      "metadata": {
        "colab": {
          "base_uri": "https://localhost:8080/"
        },
        "id": "hOAMtBvBxNn2",
        "outputId": "d6d26b1d-68dd-41e8-d65e-3be9c7f7083e"
      },
      "source": [
        "# Various hyper-parameters to tune\n",
        "xgb1 = XGBRegressor()\n",
        "parameters = {'nthread':[4], #when use hyperthread, xgboost may become slower\n",
        "              'objective':['reg:linear'],\n",
        "              'learning_rate': [.03, 0.05, .07], #so called `eta` value\n",
        "              'max_depth': [5, 6, 7],\n",
        "              'min_child_weight': [4],\n",
        "              'silent': [1],\n",
        "              'subsample': [0.7],\n",
        "              'colsample_bytree': [0.7],\n",
        "              'n_estimators': [500]}\n",
        "\n",
        "xgb_grid = GridSearchCV(xgb1,\n",
        "                        parameters,\n",
        "                        cv = 3,\n",
        "                        n_jobs = 5,\n",
        "                        verbose=True)\n",
        "\n",
        "xgb_grid.fit(X_train, y_train)\n",
        "\n",
        "print(xgb_grid.best_score_)\n",
        "print(xgb_grid.best_params_)"
      ],
      "execution_count": null,
      "outputs": [
        {
          "output_type": "stream",
          "text": [
            "Fitting 3 folds for each of 9 candidates, totalling 27 fits\n"
          ],
          "name": "stdout"
        },
        {
          "output_type": "stream",
          "text": [
            "[Parallel(n_jobs=5)]: Using backend LokyBackend with 5 concurrent workers.\n",
            "[Parallel(n_jobs=5)]: Done  27 out of  27 | elapsed: 24.6min finished\n"
          ],
          "name": "stderr"
        },
        {
          "output_type": "stream",
          "text": [
            "0.1600752977109325\n",
            "{'colsample_bytree': 0.7, 'learning_rate': 0.05, 'max_depth': 7, 'min_child_weight': 4, 'n_estimators': 500, 'nthread': 4, 'objective': 'reg:linear', 'silent': 1, 'subsample': 0.7}\n"
          ],
          "name": "stdout"
        }
      ]
    },
    {
      "cell_type": "markdown",
      "metadata": {
        "id": "K4m4i7psYpQO"
      },
      "source": [
        "## As we can see RandomForest and  XGBoost performed better than the other models after comparing their RMSE and standard deviation the model with lower RMSE and standard deviation  we will be used as a final model. Let us check the Mean RMSE and the standard deviation of these models."
      ]
    },
    {
      "cell_type": "code",
      "metadata": {
        "colab": {
          "base_uri": "https://localhost:8080/"
        },
        "id": "V-DwXMqtYwWc",
        "outputId": "eb1bd9e1-bc92-405b-a349-5020bc796106"
      },
      "source": [
        "model = XGBRegressor(learning_rate=0.01, n_estimators=3460,\n",
        "                     max_depth=3, min_child_weight=0,\n",
        "                     gamma=0, subsample=0.7,\n",
        "                     colsample_bytree=0.7,\n",
        "                     objective='reg:squarederror', nthread=-1,\n",
        "                     scale_pos_weight=1, seed=27,\n",
        "                     reg_alpha=0.00006)\n",
        "\n",
        "clf = Pipeline(steps=[('preprocessor', preprocessor),\n",
        "                          ('model', model)])\n",
        "\n",
        "\n",
        "scores = cross_val_score(clf, X, y, scoring='neg_mean_squared_error', \n",
        "                         cv=5)\n",
        "gbr_mae_scores = -scores\n",
        "\n",
        "print('Mean RMSE: ' + str(gbr_mae_scores.mean()))\n",
        "print('Error std deviation: ' +str(gbr_mae_scores.std()))"
      ],
      "execution_count": null,
      "outputs": [
        {
          "output_type": "stream",
          "text": [
            "Mean RMSE: 0.012678436161348117\n",
            "Error std deviation: 0.000460677808625538\n"
          ],
          "name": "stdout"
        }
      ]
    },
    {
      "cell_type": "code",
      "metadata": {
        "colab": {
          "base_uri": "https://localhost:8080/"
        },
        "id": "RBxFMQogpOcs",
        "outputId": "c3015d1a-e9f1-4fd8-cc1f-d7e5130d5e98"
      },
      "source": [
        "#fit random forest\n",
        "model = RandomForestRegressor(bootstrap=True, ccp_alpha=0.0,\n",
        "                                             criterion='mse', max_depth=None,\n",
        "                                             max_features='auto',\n",
        "                                             max_leaf_nodes=None,\n",
        "                                             max_samples=None,\n",
        "                                             min_impurity_decrease=0.0,\n",
        "                                             min_impurity_split=None,\n",
        "                                             min_samples_leaf=1,\n",
        "                                             min_samples_split=2,\n",
        "                                             min_weight_fraction_leaf=0.0,\n",
        "                                             n_estimators=100, n_jobs=-1,\n",
        "                                             oob_score=False, random_state=None,\n",
        "                                             verbose=0, warm_start=False)\n",
        "clf = Pipeline(steps=[('preprocessor', preprocessor),\n",
        "                          ('model', model)])\n",
        "\n",
        "scores = cross_val_score(clf, X, y, scoring='neg_mean_squared_error', \n",
        "                         cv=5)\n",
        "gbr_mae_scores = -scores\n",
        "\n",
        "print('Mean RMSE: ' + str(gbr_mae_scores.mean()))\n",
        "print('Error std deviation: ' +str(gbr_mae_scores.std()))"
      ],
      "execution_count": null,
      "outputs": [
        {
          "output_type": "stream",
          "text": [
            "Mean RMSE: 0.01154409652471761\n",
            "Error std deviation: 0.0002051909050112873\n"
          ],
          "name": "stdout"
        }
      ]
    },
    {
      "cell_type": "markdown",
      "metadata": {
        "id": "RB0dE6MBtZ_O"
      },
      "source": [
        ""
      ]
    },
    {
      "cell_type": "code",
      "metadata": {
        "colab": {
          "base_uri": "https://localhost:8080/"
        },
        "id": "KuwNqYnttY26",
        "outputId": "f467a5b3-c65d-492b-c17d-b604b9c73e05"
      },
      "source": [
        "from sklearn.model_selection import GridSearchCV\n",
        "\n",
        "param_grid = [\n",
        "{'n_estimators': [10, 25], 'max_features': [5, 10], \n",
        " 'max_depth': [10, 50, None], 'bootstrap': [True, False]}\n",
        "]\n",
        "\n",
        "grid_search_forest = GridSearchCV(model, param_grid, cv=5, scoring='neg_mean_squared_error')\n",
        "grid_search_forest.fit(X_train, y_train)"
      ],
      "execution_count": null,
      "outputs": [
        {
          "output_type": "execute_result",
          "data": {
            "text/plain": [
              "GridSearchCV(cv=5, error_score=nan,\n",
              "             estimator=RandomForestRegressor(bootstrap=True, ccp_alpha=0.0,\n",
              "                                             criterion='mse', max_depth=None,\n",
              "                                             max_features='auto',\n",
              "                                             max_leaf_nodes=None,\n",
              "                                             max_samples=None,\n",
              "                                             min_impurity_decrease=0.0,\n",
              "                                             min_impurity_split=None,\n",
              "                                             min_samples_leaf=1,\n",
              "                                             min_samples_split=2,\n",
              "                                             min_weight_fraction_leaf=0.0,\n",
              "                                             n_estimators=100, n_jobs=-1,\n",
              "                                             oob_score=False, random_state=None,\n",
              "                                             verbose=0, warm_start=False),\n",
              "             iid='deprecated', n_jobs=None,\n",
              "             param_grid=[{'bootstrap': [True, False],\n",
              "                          'max_depth': [10, 50, None], 'max_features': [5, 10],\n",
              "                          'n_estimators': [10, 25]}],\n",
              "             pre_dispatch='2*n_jobs', refit=True, return_train_score=False,\n",
              "             scoring='neg_mean_squared_error', verbose=0)"
            ]
          },
          "metadata": {
            "tags": []
          },
          "execution_count": 74
        }
      ]
    },
    {
      "cell_type": "code",
      "metadata": {
        "colab": {
          "base_uri": "https://localhost:8080/"
        },
        "id": "PktV04yvt8xS",
        "outputId": "b08dc90f-b5a5-471f-9420-b59527b4de5d"
      },
      "source": [
        "#now let's see how the RMSE changes for each parameter configuration\n",
        "cvres = grid_search_forest.cv_results_\n",
        "for mean_score, params in zip(cvres[\"mean_test_score\"], cvres[\"params\"]):\n",
        "    print(np.sqrt(-mean_score), params)"
      ],
      "execution_count": null,
      "outputs": [
        {
          "output_type": "stream",
          "text": [
            "0.09920878281136128 {'bootstrap': True, 'max_depth': 10, 'max_features': 5, 'n_estimators': 10}\n",
            "0.09689086782168833 {'bootstrap': True, 'max_depth': 10, 'max_features': 5, 'n_estimators': 25}\n",
            "0.09765611698209391 {'bootstrap': True, 'max_depth': 10, 'max_features': 10, 'n_estimators': 10}\n",
            "0.09717770593233908 {'bootstrap': True, 'max_depth': 10, 'max_features': 10, 'n_estimators': 25}\n",
            "0.08967475566983608 {'bootstrap': True, 'max_depth': 50, 'max_features': 5, 'n_estimators': 10}\n",
            "0.08564712844584492 {'bootstrap': True, 'max_depth': 50, 'max_features': 5, 'n_estimators': 25}\n",
            "0.08968726071239373 {'bootstrap': True, 'max_depth': 50, 'max_features': 10, 'n_estimators': 10}\n",
            "0.08879326656078529 {'bootstrap': True, 'max_depth': 50, 'max_features': 10, 'n_estimators': 25}\n",
            "0.08970088561797404 {'bootstrap': True, 'max_depth': None, 'max_features': 5, 'n_estimators': 10}\n",
            "0.08730606854566615 {'bootstrap': True, 'max_depth': None, 'max_features': 5, 'n_estimators': 25}\n",
            "0.09067261578371652 {'bootstrap': True, 'max_depth': None, 'max_features': 10, 'n_estimators': 10}\n",
            "0.0882525445381589 {'bootstrap': True, 'max_depth': None, 'max_features': 10, 'n_estimators': 25}\n",
            "0.09480900889261216 {'bootstrap': False, 'max_depth': 10, 'max_features': 5, 'n_estimators': 10}\n",
            "0.09471455579358803 {'bootstrap': False, 'max_depth': 10, 'max_features': 5, 'n_estimators': 25}\n",
            "0.09683248555959802 {'bootstrap': False, 'max_depth': 10, 'max_features': 10, 'n_estimators': 10}\n",
            "0.09448844606823677 {'bootstrap': False, 'max_depth': 10, 'max_features': 10, 'n_estimators': 25}\n",
            "0.08194529449143458 {'bootstrap': False, 'max_depth': 50, 'max_features': 5, 'n_estimators': 10}\n",
            "0.08084046508290839 {'bootstrap': False, 'max_depth': 50, 'max_features': 5, 'n_estimators': 25}\n",
            "0.08581239195081303 {'bootstrap': False, 'max_depth': 50, 'max_features': 10, 'n_estimators': 10}\n",
            "0.08215376878809733 {'bootstrap': False, 'max_depth': 50, 'max_features': 10, 'n_estimators': 25}\n",
            "0.08350686336718707 {'bootstrap': False, 'max_depth': None, 'max_features': 5, 'n_estimators': 10}\n",
            "0.08038148127028948 {'bootstrap': False, 'max_depth': None, 'max_features': 5, 'n_estimators': 25}\n",
            "0.08423648987058044 {'bootstrap': False, 'max_depth': None, 'max_features': 10, 'n_estimators': 10}\n",
            "0.08254203836167118 {'bootstrap': False, 'max_depth': None, 'max_features': 10, 'n_estimators': 25}\n"
          ],
          "name": "stdout"
        }
      ]
    },
    {
      "cell_type": "code",
      "metadata": {
        "colab": {
          "base_uri": "https://localhost:8080/"
        },
        "id": "yJ2Tc6tquFMA",
        "outputId": "eaa4dbae-2aa4-4540-bf85-b763f09ece4d"
      },
      "source": [
        "#find the best model of grid search\n",
        "grid_search_forest.best_estimator_"
      ],
      "execution_count": null,
      "outputs": [
        {
          "output_type": "execute_result",
          "data": {
            "text/plain": [
              "RandomForestRegressor(bootstrap=False, ccp_alpha=0.0, criterion='mse',\n",
              "                      max_depth=None, max_features=5, max_leaf_nodes=None,\n",
              "                      max_samples=None, min_impurity_decrease=0.0,\n",
              "                      min_impurity_split=None, min_samples_leaf=1,\n",
              "                      min_samples_split=2, min_weight_fraction_leaf=0.0,\n",
              "                      n_estimators=25, n_jobs=-1, oob_score=False,\n",
              "                      random_state=None, verbose=0, warm_start=False)"
            ]
          },
          "metadata": {
            "tags": []
          },
          "execution_count": 76
        }
      ]
    },
    {
      "cell_type": "markdown",
      "metadata": {
        "id": "juL9Mp91anQe"
      },
      "source": [
        "## Setting up Final Model for Submission\n",
        "\n",
        "Our next step is setting up the final model"
      ]
    },
    {
      "cell_type": "code",
      "metadata": {
        "id": "cOc9YM8xamHk"
      },
      "source": [
        "model = RandomForestRegressor(bootstrap=True, ccp_alpha=0.0,\n",
        "                                             criterion='mse', max_depth=None,\n",
        "                                             max_features='auto',\n",
        "                                             max_leaf_nodes=None,\n",
        "                                             max_samples=None,\n",
        "                                             min_impurity_decrease=0.0,\n",
        "                                             min_impurity_split=None,\n",
        "                                             min_samples_leaf=1,\n",
        "                                             min_samples_split=2,\n",
        "                                             min_weight_fraction_leaf=0.0,\n",
        "                                             n_estimators=100, n_jobs=-1,\n",
        "                                             oob_score=False, random_state=None,\n",
        "                                             verbose=0, warm_start=False)\n",
        "final_model = Pipeline(steps=[('preprocessor', preprocessor),\n",
        "                          ('model', model)])\n",
        "\n",
        "final_model.fit(X_train, y_train)\n",
        "\n",
        "final_predictions = final_model.predict(X_test)"
      ],
      "execution_count": null,
      "outputs": []
    },
    {
      "cell_type": "code",
      "metadata": {
        "colab": {
          "base_uri": "https://localhost:8080/"
        },
        "id": "SxNKslA4a4vy",
        "outputId": "38f45ea5-7fde-4e5a-8bea-447fe4eedf93"
      },
      "source": [
        "final_predictions"
      ],
      "execution_count": null,
      "outputs": [
        {
          "output_type": "execute_result",
          "data": {
            "text/plain": [
              "array([16.11604885, 16.13294566, 16.16212254, ..., 16.26790102,\n",
              "       16.28901452, 16.3367132 ])"
            ]
          },
          "metadata": {
            "tags": []
          },
          "execution_count": 82
        }
      ]
    },
    {
      "cell_type": "markdown",
      "metadata": {
        "id": "ZfvoKTE4bA8Z"
      },
      "source": [
        "## 6. Submission"
      ]
    },
    {
      "cell_type": "code",
      "metadata": {
        "id": "VkRXgebda9pa"
      },
      "source": [
        "output = pd.DataFrame({'distw': X_test.index,\n",
        "                       'gdp_o': inv_y(final_predictions)})\n",
        "\n",
        "output.to_csv('submission.csv', index=False)"
      ],
      "execution_count": null,
      "outputs": []
    }
  ]
}